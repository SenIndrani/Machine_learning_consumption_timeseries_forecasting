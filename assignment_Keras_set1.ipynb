{
  "nbformat": 4,
  "nbformat_minor": 0,
  "metadata": {
    "colab": {
      "provenance": [],
      "collapsed_sections": [],
      "authorship_tag": "ABX9TyPQYAlWM9qLk2soUdbvmMJm",
      "include_colab_link": true
    },
    "kernelspec": {
      "name": "python3",
      "display_name": "Python 3"
    },
    "language_info": {
      "name": "python"
    },
    "accelerator": "GPU",
    "gpuClass": "standard"
  },
  "cells": [
    {
      "cell_type": "markdown",
      "metadata": {
        "id": "view-in-github",
        "colab_type": "text"
      },
      "source": [
        "<a href=\"https://colab.research.google.com/github/SenIndrani/Machine_learning_consumption_timeseries_forecasting/blob/main/assignment_Keras_set1.ipynb\" target=\"_parent\"><img src=\"https://colab.research.google.com/assets/colab-badge.svg\" alt=\"Open In Colab\"/></a>"
      ]
    },
    {
      "cell_type": "code",
      "execution_count": 1,
      "metadata": {
        "id": "pFGv0YnqlwYe"
      },
      "outputs": [],
      "source": [
        "import tensorflow as tf\n",
        "from tensorflow import keras\n",
        "from tensorflow.keras import layers\n",
        "import matplotlib.pyplot as plt\n",
        "\n",
        "import pandas as pd\n",
        "import numpy as np"
      ]
    },
    {
      "cell_type": "code",
      "source": [
        "from google.colab import data_table\n",
        "data_table.enable_dataframe_formatter()\n",
        "customer = pd.read_csv( \"/content/customer_churn.csv\")"
      ],
      "metadata": {
        "id": "BBAY8PIfq60o"
      },
      "execution_count": 2,
      "outputs": []
    },
    {
      "cell_type": "code",
      "source": [
        "sum(customer['gender']==\"Male\")"
      ],
      "metadata": {
        "colab": {
          "base_uri": "https://localhost:8080/"
        },
        "id": "HWu60B8o6Qku",
        "outputId": "048fd728-a19e-4600-e0a5-d27dbdd14024"
      },
      "execution_count": 3,
      "outputs": [
        {
          "output_type": "execute_result",
          "data": {
            "text/plain": [
              "3555"
            ]
          },
          "metadata": {},
          "execution_count": 3
        }
      ]
    },
    {
      "cell_type": "code",
      "source": [
        "sum(customer['InternetService']==\"DSL\")"
      ],
      "metadata": {
        "colab": {
          "base_uri": "https://localhost:8080/"
        },
        "id": "d_au0tfO6mLj",
        "outputId": "42f747ff-b4fd-4f2a-be83-7bcb6e1cfcd2"
      },
      "execution_count": 4,
      "outputs": [
        {
          "output_type": "execute_result",
          "data": {
            "text/plain": [
              "2421"
            ]
          },
          "metadata": {},
          "execution_count": 4
        }
      ]
    },
    {
      "cell_type": "code",
      "source": [
        "new_customer=customer[(customer['gender']=='Female') &\n",
        "(customer['SeniorCitizen']==1) & (customer['PaymentMethod']=='Mailed check')]"
      ],
      "metadata": {
        "id": "T90bnKa76sCT"
      },
      "execution_count": 5,
      "outputs": []
    },
    {
      "cell_type": "code",
      "source": [
        "new_customer.head()"
      ],
      "metadata": {
        "colab": {
          "base_uri": "https://localhost:8080/",
          "height": 404
        },
        "id": "IwGPj89b61jz",
        "outputId": "0ecd22c6-8e00-4403-fcf0-dfcc63465279"
      },
      "execution_count": 6,
      "outputs": [
        {
          "output_type": "stream",
          "name": "stdout",
          "text": [
            "Warning: Total number of columns (21) exceeds max_columns (20). Falling back to pandas display.\n"
          ]
        },
        {
          "output_type": "execute_result",
          "data": {
            "text/plain": [
              "     customerID  gender  SeniorCitizen Partner Dependents  tenure  \\\n",
              "139  0390-DCFDQ  Female              1     Yes         No       1   \n",
              "176  2656-FMOKZ  Female              1      No         No      15   \n",
              "267  3197-ARFOY  Female              1      No         No      19   \n",
              "451  5760-WRAHC  Female              1      No         No      22   \n",
              "470  4933-IKULF  Female              1      No         No      17   \n",
              "\n",
              "    PhoneService MultipleLines InternetService       OnlineSecurity  ...  \\\n",
              "139          Yes            No     Fiber optic                   No  ...   \n",
              "176          Yes           Yes     Fiber optic                   No  ...   \n",
              "267          Yes            No     Fiber optic                  Yes  ...   \n",
              "451          Yes            No             DSL                  Yes  ...   \n",
              "470          Yes            No              No  No internet service  ...   \n",
              "\n",
              "        DeviceProtection          TechSupport          StreamingTV  \\\n",
              "139                   No                   No                   No   \n",
              "176                   No                   No                   No   \n",
              "267                   No                  Yes                  Yes   \n",
              "451                  Yes                  Yes                   No   \n",
              "470  No internet service  No internet service  No internet service   \n",
              "\n",
              "         StreamingMovies        Contract PaperlessBilling PaymentMethod  \\\n",
              "139                   No  Month-to-month              Yes  Mailed check   \n",
              "176                   No  Month-to-month              Yes  Mailed check   \n",
              "267                  Yes  Month-to-month              Yes  Mailed check   \n",
              "451                  Yes  Month-to-month              Yes  Mailed check   \n",
              "470  No internet service        One year               No  Mailed check   \n",
              "\n",
              "    MonthlyCharges  TotalCharges Churn  \n",
              "139          70.45         70.45   Yes  \n",
              "176          74.45        1145.7   Yes  \n",
              "267         105.00       2007.25    No  \n",
              "451          69.75        1545.4    No  \n",
              "470          20.65         330.6    No  \n",
              "\n",
              "[5 rows x 21 columns]"
            ],
            "text/html": [
              "\n",
              "  <div id=\"df-12f17840-cff0-46db-8d2a-1ebe75470347\">\n",
              "    <div class=\"colab-df-container\">\n",
              "      <div>\n",
              "<style scoped>\n",
              "    .dataframe tbody tr th:only-of-type {\n",
              "        vertical-align: middle;\n",
              "    }\n",
              "\n",
              "    .dataframe tbody tr th {\n",
              "        vertical-align: top;\n",
              "    }\n",
              "\n",
              "    .dataframe thead th {\n",
              "        text-align: right;\n",
              "    }\n",
              "</style>\n",
              "<table border=\"1\" class=\"dataframe\">\n",
              "  <thead>\n",
              "    <tr style=\"text-align: right;\">\n",
              "      <th></th>\n",
              "      <th>customerID</th>\n",
              "      <th>gender</th>\n",
              "      <th>SeniorCitizen</th>\n",
              "      <th>Partner</th>\n",
              "      <th>Dependents</th>\n",
              "      <th>tenure</th>\n",
              "      <th>PhoneService</th>\n",
              "      <th>MultipleLines</th>\n",
              "      <th>InternetService</th>\n",
              "      <th>OnlineSecurity</th>\n",
              "      <th>...</th>\n",
              "      <th>DeviceProtection</th>\n",
              "      <th>TechSupport</th>\n",
              "      <th>StreamingTV</th>\n",
              "      <th>StreamingMovies</th>\n",
              "      <th>Contract</th>\n",
              "      <th>PaperlessBilling</th>\n",
              "      <th>PaymentMethod</th>\n",
              "      <th>MonthlyCharges</th>\n",
              "      <th>TotalCharges</th>\n",
              "      <th>Churn</th>\n",
              "    </tr>\n",
              "  </thead>\n",
              "  <tbody>\n",
              "    <tr>\n",
              "      <th>139</th>\n",
              "      <td>0390-DCFDQ</td>\n",
              "      <td>Female</td>\n",
              "      <td>1</td>\n",
              "      <td>Yes</td>\n",
              "      <td>No</td>\n",
              "      <td>1</td>\n",
              "      <td>Yes</td>\n",
              "      <td>No</td>\n",
              "      <td>Fiber optic</td>\n",
              "      <td>No</td>\n",
              "      <td>...</td>\n",
              "      <td>No</td>\n",
              "      <td>No</td>\n",
              "      <td>No</td>\n",
              "      <td>No</td>\n",
              "      <td>Month-to-month</td>\n",
              "      <td>Yes</td>\n",
              "      <td>Mailed check</td>\n",
              "      <td>70.45</td>\n",
              "      <td>70.45</td>\n",
              "      <td>Yes</td>\n",
              "    </tr>\n",
              "    <tr>\n",
              "      <th>176</th>\n",
              "      <td>2656-FMOKZ</td>\n",
              "      <td>Female</td>\n",
              "      <td>1</td>\n",
              "      <td>No</td>\n",
              "      <td>No</td>\n",
              "      <td>15</td>\n",
              "      <td>Yes</td>\n",
              "      <td>Yes</td>\n",
              "      <td>Fiber optic</td>\n",
              "      <td>No</td>\n",
              "      <td>...</td>\n",
              "      <td>No</td>\n",
              "      <td>No</td>\n",
              "      <td>No</td>\n",
              "      <td>No</td>\n",
              "      <td>Month-to-month</td>\n",
              "      <td>Yes</td>\n",
              "      <td>Mailed check</td>\n",
              "      <td>74.45</td>\n",
              "      <td>1145.7</td>\n",
              "      <td>Yes</td>\n",
              "    </tr>\n",
              "    <tr>\n",
              "      <th>267</th>\n",
              "      <td>3197-ARFOY</td>\n",
              "      <td>Female</td>\n",
              "      <td>1</td>\n",
              "      <td>No</td>\n",
              "      <td>No</td>\n",
              "      <td>19</td>\n",
              "      <td>Yes</td>\n",
              "      <td>No</td>\n",
              "      <td>Fiber optic</td>\n",
              "      <td>Yes</td>\n",
              "      <td>...</td>\n",
              "      <td>No</td>\n",
              "      <td>Yes</td>\n",
              "      <td>Yes</td>\n",
              "      <td>Yes</td>\n",
              "      <td>Month-to-month</td>\n",
              "      <td>Yes</td>\n",
              "      <td>Mailed check</td>\n",
              "      <td>105.00</td>\n",
              "      <td>2007.25</td>\n",
              "      <td>No</td>\n",
              "    </tr>\n",
              "    <tr>\n",
              "      <th>451</th>\n",
              "      <td>5760-WRAHC</td>\n",
              "      <td>Female</td>\n",
              "      <td>1</td>\n",
              "      <td>No</td>\n",
              "      <td>No</td>\n",
              "      <td>22</td>\n",
              "      <td>Yes</td>\n",
              "      <td>No</td>\n",
              "      <td>DSL</td>\n",
              "      <td>Yes</td>\n",
              "      <td>...</td>\n",
              "      <td>Yes</td>\n",
              "      <td>Yes</td>\n",
              "      <td>No</td>\n",
              "      <td>Yes</td>\n",
              "      <td>Month-to-month</td>\n",
              "      <td>Yes</td>\n",
              "      <td>Mailed check</td>\n",
              "      <td>69.75</td>\n",
              "      <td>1545.4</td>\n",
              "      <td>No</td>\n",
              "    </tr>\n",
              "    <tr>\n",
              "      <th>470</th>\n",
              "      <td>4933-IKULF</td>\n",
              "      <td>Female</td>\n",
              "      <td>1</td>\n",
              "      <td>No</td>\n",
              "      <td>No</td>\n",
              "      <td>17</td>\n",
              "      <td>Yes</td>\n",
              "      <td>No</td>\n",
              "      <td>No</td>\n",
              "      <td>No internet service</td>\n",
              "      <td>...</td>\n",
              "      <td>No internet service</td>\n",
              "      <td>No internet service</td>\n",
              "      <td>No internet service</td>\n",
              "      <td>No internet service</td>\n",
              "      <td>One year</td>\n",
              "      <td>No</td>\n",
              "      <td>Mailed check</td>\n",
              "      <td>20.65</td>\n",
              "      <td>330.6</td>\n",
              "      <td>No</td>\n",
              "    </tr>\n",
              "  </tbody>\n",
              "</table>\n",
              "<p>5 rows × 21 columns</p>\n",
              "</div>\n",
              "      <button class=\"colab-df-convert\" onclick=\"convertToInteractive('df-12f17840-cff0-46db-8d2a-1ebe75470347')\"\n",
              "              title=\"Convert this dataframe to an interactive table.\"\n",
              "              style=\"display:none;\">\n",
              "        \n",
              "  <svg xmlns=\"http://www.w3.org/2000/svg\" height=\"24px\"viewBox=\"0 0 24 24\"\n",
              "       width=\"24px\">\n",
              "    <path d=\"M0 0h24v24H0V0z\" fill=\"none\"/>\n",
              "    <path d=\"M18.56 5.44l.94 2.06.94-2.06 2.06-.94-2.06-.94-.94-2.06-.94 2.06-2.06.94zm-11 1L8.5 8.5l.94-2.06 2.06-.94-2.06-.94L8.5 2.5l-.94 2.06-2.06.94zm10 10l.94 2.06.94-2.06 2.06-.94-2.06-.94-.94-2.06-.94 2.06-2.06.94z\"/><path d=\"M17.41 7.96l-1.37-1.37c-.4-.4-.92-.59-1.43-.59-.52 0-1.04.2-1.43.59L10.3 9.45l-7.72 7.72c-.78.78-.78 2.05 0 2.83L4 21.41c.39.39.9.59 1.41.59.51 0 1.02-.2 1.41-.59l7.78-7.78 2.81-2.81c.8-.78.8-2.07 0-2.86zM5.41 20L4 18.59l7.72-7.72 1.47 1.35L5.41 20z\"/>\n",
              "  </svg>\n",
              "      </button>\n",
              "      \n",
              "  <style>\n",
              "    .colab-df-container {\n",
              "      display:flex;\n",
              "      flex-wrap:wrap;\n",
              "      gap: 12px;\n",
              "    }\n",
              "\n",
              "    .colab-df-convert {\n",
              "      background-color: #E8F0FE;\n",
              "      border: none;\n",
              "      border-radius: 50%;\n",
              "      cursor: pointer;\n",
              "      display: none;\n",
              "      fill: #1967D2;\n",
              "      height: 32px;\n",
              "      padding: 0 0 0 0;\n",
              "      width: 32px;\n",
              "    }\n",
              "\n",
              "    .colab-df-convert:hover {\n",
              "      background-color: #E2EBFA;\n",
              "      box-shadow: 0px 1px 2px rgba(60, 64, 67, 0.3), 0px 1px 3px 1px rgba(60, 64, 67, 0.15);\n",
              "      fill: #174EA6;\n",
              "    }\n",
              "\n",
              "    [theme=dark] .colab-df-convert {\n",
              "      background-color: #3B4455;\n",
              "      fill: #D2E3FC;\n",
              "    }\n",
              "\n",
              "    [theme=dark] .colab-df-convert:hover {\n",
              "      background-color: #434B5C;\n",
              "      box-shadow: 0px 1px 3px 1px rgba(0, 0, 0, 0.15);\n",
              "      filter: drop-shadow(0px 1px 2px rgba(0, 0, 0, 0.3));\n",
              "      fill: #FFFFFF;\n",
              "    }\n",
              "  </style>\n",
              "\n",
              "      <script>\n",
              "        const buttonEl =\n",
              "          document.querySelector('#df-12f17840-cff0-46db-8d2a-1ebe75470347 button.colab-df-convert');\n",
              "        buttonEl.style.display =\n",
              "          google.colab.kernel.accessAllowed ? 'block' : 'none';\n",
              "\n",
              "        async function convertToInteractive(key) {\n",
              "          const element = document.querySelector('#df-12f17840-cff0-46db-8d2a-1ebe75470347');\n",
              "          const dataTable =\n",
              "            await google.colab.kernel.invokeFunction('convertToInteractive',\n",
              "                                                     [key], {});\n",
              "          if (!dataTable) return;\n",
              "\n",
              "          const docLinkHtml = 'Like what you see? Visit the ' +\n",
              "            '<a target=\"_blank\" href=https://colab.research.google.com/notebooks/data_table.ipynb>data table notebook</a>'\n",
              "            + ' to learn more about interactive tables.';\n",
              "          element.innerHTML = '';\n",
              "          dataTable['output_type'] = 'display_data';\n",
              "          await google.colab.output.renderOutput(dataTable, element);\n",
              "          const docLink = document.createElement('div');\n",
              "          docLink.innerHTML = docLinkHtml;\n",
              "          element.appendChild(docLink);\n",
              "        }\n",
              "      </script>\n",
              "    </div>\n",
              "  </div>\n",
              "  "
            ]
          },
          "metadata": {},
          "execution_count": 6
        }
      ]
    },
    {
      "cell_type": "code",
      "source": [
        "customer.info()"
      ],
      "metadata": {
        "colab": {
          "base_uri": "https://localhost:8080/"
        },
        "id": "mz3O28Wp7Lhl",
        "outputId": "8ed71676-b0f0-4448-968b-cad1cc3f25fd"
      },
      "execution_count": 7,
      "outputs": [
        {
          "output_type": "stream",
          "name": "stdout",
          "text": [
            "<class 'pandas.core.frame.DataFrame'>\n",
            "RangeIndex: 7043 entries, 0 to 7042\n",
            "Data columns (total 21 columns):\n",
            " #   Column            Non-Null Count  Dtype  \n",
            "---  ------            --------------  -----  \n",
            " 0   customerID        7043 non-null   object \n",
            " 1   gender            7043 non-null   object \n",
            " 2   SeniorCitizen     7043 non-null   int64  \n",
            " 3   Partner           7043 non-null   object \n",
            " 4   Dependents        7043 non-null   object \n",
            " 5   tenure            7043 non-null   int64  \n",
            " 6   PhoneService      7043 non-null   object \n",
            " 7   MultipleLines     7043 non-null   object \n",
            " 8   InternetService   7043 non-null   object \n",
            " 9   OnlineSecurity    7043 non-null   object \n",
            " 10  OnlineBackup      7043 non-null   object \n",
            " 11  DeviceProtection  7043 non-null   object \n",
            " 12  TechSupport       7043 non-null   object \n",
            " 13  StreamingTV       7043 non-null   object \n",
            " 14  StreamingMovies   7043 non-null   object \n",
            " 15  Contract          7043 non-null   object \n",
            " 16  PaperlessBilling  7043 non-null   object \n",
            " 17  PaymentMethod     7043 non-null   object \n",
            " 18  MonthlyCharges    7043 non-null   float64\n",
            " 19  TotalCharges      7043 non-null   object \n",
            " 20  Churn             7043 non-null   object \n",
            "dtypes: float64(1), int64(2), object(18)\n",
            "memory usage: 1.1+ MB\n"
          ]
        }
      ]
    },
    {
      "cell_type": "code",
      "source": [
        "def print_unique_col_values(df):\n",
        "       for column in df:\n",
        "            if df[column].dtypes=='object':\n",
        "                print(f'{column}: {df[column].unique()}') "
      ],
      "metadata": {
        "id": "rwSXKgm7Gmdh"
      },
      "execution_count": 8,
      "outputs": []
    },
    {
      "cell_type": "code",
      "source": [
        "print_unique_col_values(customer)"
      ],
      "metadata": {
        "colab": {
          "base_uri": "https://localhost:8080/"
        },
        "id": "JTZU0pIcGtAi",
        "outputId": "2c2c266b-1ac4-4731-91c8-100eb7c0ac1b"
      },
      "execution_count": 60,
      "outputs": [
        {
          "output_type": "stream",
          "name": "stdout",
          "text": [
            "customerID: ['7590-VHVEG' '5575-GNVDE' '3668-QPYBK' ... '4801-JZAZL' '8361-LTMKD'\n",
            " '3186-AJIEK']\n",
            "gender: ['Female' 'Male']\n",
            "MultipleLines: ['No phone service' 0 1]\n",
            "InternetService: ['DSL' 'Fiber optic' 'No']\n",
            "OnlineSecurity: [0 1 'No internet service']\n",
            "OnlineBackup: [1 0 'No internet service']\n",
            "DeviceProtection: [0 1 'No internet service']\n",
            "TechSupport: [0 1 'No internet service']\n",
            "StreamingTV: [0 1 'No internet service']\n",
            "StreamingMovies: [0 1 'No internet service']\n",
            "Contract: ['Month-to-month' 'One year' 'Two year']\n",
            "PaymentMethod: ['Electronic check' 'Mailed check' 'Bank transfer (automatic)'\n",
            " 'Credit card (automatic)']\n",
            "TotalCharges: ['29.85' '1889.5' '108.15' ... '346.45' '306.6' '6844.5']\n"
          ]
        }
      ]
    },
    {
      "cell_type": "code",
      "source": [
        "yes_no_columns = ['Partner','Dependents','PhoneService','MultipleLines','OnlineSecurity','OnlineBackup',\n",
        "                  'DeviceProtection','TechSupport','StreamingTV','StreamingMovies','PaperlessBilling','Churn']\n",
        "for col in yes_no_columns:\n",
        "    customer[col].replace({'Yes': 1,'No': 0},inplace=True)"
      ],
      "metadata": {
        "id": "khJ1MZx4G5rH"
      },
      "execution_count": 10,
      "outputs": []
    },
    {
      "cell_type": "code",
      "source": [
        "customer['tenure'] = pd.to_numeric(customer['tenure'])"
      ],
      "metadata": {
        "id": "O8byeo2G7QaL"
      },
      "execution_count": 11,
      "outputs": []
    },
    {
      "cell_type": "code",
      "source": [
        "np.dtype(customer['tenure'])"
      ],
      "metadata": {
        "colab": {
          "base_uri": "https://localhost:8080/"
        },
        "id": "hGhGuQhz8XFv",
        "outputId": "9130749a-d437-4740-9036-7dda61865592"
      },
      "execution_count": 12,
      "outputs": [
        {
          "output_type": "execute_result",
          "data": {
            "text/plain": [
              "dtype('int64')"
            ]
          },
          "metadata": {},
          "execution_count": 12
        }
      ]
    },
    {
      "cell_type": "code",
      "source": [
        "new_customer=customer[(customer['tenure'] < 10 ) | (customer['MonthlyCharges'] < 100)]\n",
        "new_customer.head()"
      ],
      "metadata": {
        "colab": {
          "base_uri": "https://localhost:8080/",
          "height": 404
        },
        "id": "OfJ5rnuc67Z7",
        "outputId": "300d89be-a755-40f5-d542-4d4db91814f4"
      },
      "execution_count": 13,
      "outputs": [
        {
          "output_type": "stream",
          "name": "stdout",
          "text": [
            "Warning: Total number of columns (21) exceeds max_columns (20). Falling back to pandas display.\n"
          ]
        },
        {
          "output_type": "execute_result",
          "data": {
            "text/plain": [
              "   customerID  gender  SeniorCitizen  Partner  Dependents  tenure  \\\n",
              "0  7590-VHVEG  Female              0        1           0       1   \n",
              "1  5575-GNVDE    Male              0        0           0      34   \n",
              "2  3668-QPYBK    Male              0        0           0       2   \n",
              "3  7795-CFOCW    Male              0        0           0      45   \n",
              "4  9237-HQITU  Female              0        0           0       2   \n",
              "\n",
              "   PhoneService     MultipleLines InternetService OnlineSecurity  ...  \\\n",
              "0             0  No phone service             DSL              0  ...   \n",
              "1             1                 0             DSL              1  ...   \n",
              "2             1                 0             DSL              1  ...   \n",
              "3             0  No phone service             DSL              1  ...   \n",
              "4             1                 0     Fiber optic              0  ...   \n",
              "\n",
              "  DeviceProtection TechSupport StreamingTV StreamingMovies        Contract  \\\n",
              "0                0           0           0               0  Month-to-month   \n",
              "1                1           0           0               0        One year   \n",
              "2                0           0           0               0  Month-to-month   \n",
              "3                1           1           0               0        One year   \n",
              "4                0           0           0               0  Month-to-month   \n",
              "\n",
              "  PaperlessBilling              PaymentMethod MonthlyCharges  TotalCharges  \\\n",
              "0                1           Electronic check          29.85         29.85   \n",
              "1                0               Mailed check          56.95        1889.5   \n",
              "2                1               Mailed check          53.85        108.15   \n",
              "3                0  Bank transfer (automatic)          42.30       1840.75   \n",
              "4                1           Electronic check          70.70        151.65   \n",
              "\n",
              "  Churn  \n",
              "0     0  \n",
              "1     0  \n",
              "2     1  \n",
              "3     0  \n",
              "4     1  \n",
              "\n",
              "[5 rows x 21 columns]"
            ],
            "text/html": [
              "\n",
              "  <div id=\"df-2d28a33a-c748-444f-8f08-f6eeddd89514\">\n",
              "    <div class=\"colab-df-container\">\n",
              "      <div>\n",
              "<style scoped>\n",
              "    .dataframe tbody tr th:only-of-type {\n",
              "        vertical-align: middle;\n",
              "    }\n",
              "\n",
              "    .dataframe tbody tr th {\n",
              "        vertical-align: top;\n",
              "    }\n",
              "\n",
              "    .dataframe thead th {\n",
              "        text-align: right;\n",
              "    }\n",
              "</style>\n",
              "<table border=\"1\" class=\"dataframe\">\n",
              "  <thead>\n",
              "    <tr style=\"text-align: right;\">\n",
              "      <th></th>\n",
              "      <th>customerID</th>\n",
              "      <th>gender</th>\n",
              "      <th>SeniorCitizen</th>\n",
              "      <th>Partner</th>\n",
              "      <th>Dependents</th>\n",
              "      <th>tenure</th>\n",
              "      <th>PhoneService</th>\n",
              "      <th>MultipleLines</th>\n",
              "      <th>InternetService</th>\n",
              "      <th>OnlineSecurity</th>\n",
              "      <th>...</th>\n",
              "      <th>DeviceProtection</th>\n",
              "      <th>TechSupport</th>\n",
              "      <th>StreamingTV</th>\n",
              "      <th>StreamingMovies</th>\n",
              "      <th>Contract</th>\n",
              "      <th>PaperlessBilling</th>\n",
              "      <th>PaymentMethod</th>\n",
              "      <th>MonthlyCharges</th>\n",
              "      <th>TotalCharges</th>\n",
              "      <th>Churn</th>\n",
              "    </tr>\n",
              "  </thead>\n",
              "  <tbody>\n",
              "    <tr>\n",
              "      <th>0</th>\n",
              "      <td>7590-VHVEG</td>\n",
              "      <td>Female</td>\n",
              "      <td>0</td>\n",
              "      <td>1</td>\n",
              "      <td>0</td>\n",
              "      <td>1</td>\n",
              "      <td>0</td>\n",
              "      <td>No phone service</td>\n",
              "      <td>DSL</td>\n",
              "      <td>0</td>\n",
              "      <td>...</td>\n",
              "      <td>0</td>\n",
              "      <td>0</td>\n",
              "      <td>0</td>\n",
              "      <td>0</td>\n",
              "      <td>Month-to-month</td>\n",
              "      <td>1</td>\n",
              "      <td>Electronic check</td>\n",
              "      <td>29.85</td>\n",
              "      <td>29.85</td>\n",
              "      <td>0</td>\n",
              "    </tr>\n",
              "    <tr>\n",
              "      <th>1</th>\n",
              "      <td>5575-GNVDE</td>\n",
              "      <td>Male</td>\n",
              "      <td>0</td>\n",
              "      <td>0</td>\n",
              "      <td>0</td>\n",
              "      <td>34</td>\n",
              "      <td>1</td>\n",
              "      <td>0</td>\n",
              "      <td>DSL</td>\n",
              "      <td>1</td>\n",
              "      <td>...</td>\n",
              "      <td>1</td>\n",
              "      <td>0</td>\n",
              "      <td>0</td>\n",
              "      <td>0</td>\n",
              "      <td>One year</td>\n",
              "      <td>0</td>\n",
              "      <td>Mailed check</td>\n",
              "      <td>56.95</td>\n",
              "      <td>1889.5</td>\n",
              "      <td>0</td>\n",
              "    </tr>\n",
              "    <tr>\n",
              "      <th>2</th>\n",
              "      <td>3668-QPYBK</td>\n",
              "      <td>Male</td>\n",
              "      <td>0</td>\n",
              "      <td>0</td>\n",
              "      <td>0</td>\n",
              "      <td>2</td>\n",
              "      <td>1</td>\n",
              "      <td>0</td>\n",
              "      <td>DSL</td>\n",
              "      <td>1</td>\n",
              "      <td>...</td>\n",
              "      <td>0</td>\n",
              "      <td>0</td>\n",
              "      <td>0</td>\n",
              "      <td>0</td>\n",
              "      <td>Month-to-month</td>\n",
              "      <td>1</td>\n",
              "      <td>Mailed check</td>\n",
              "      <td>53.85</td>\n",
              "      <td>108.15</td>\n",
              "      <td>1</td>\n",
              "    </tr>\n",
              "    <tr>\n",
              "      <th>3</th>\n",
              "      <td>7795-CFOCW</td>\n",
              "      <td>Male</td>\n",
              "      <td>0</td>\n",
              "      <td>0</td>\n",
              "      <td>0</td>\n",
              "      <td>45</td>\n",
              "      <td>0</td>\n",
              "      <td>No phone service</td>\n",
              "      <td>DSL</td>\n",
              "      <td>1</td>\n",
              "      <td>...</td>\n",
              "      <td>1</td>\n",
              "      <td>1</td>\n",
              "      <td>0</td>\n",
              "      <td>0</td>\n",
              "      <td>One year</td>\n",
              "      <td>0</td>\n",
              "      <td>Bank transfer (automatic)</td>\n",
              "      <td>42.30</td>\n",
              "      <td>1840.75</td>\n",
              "      <td>0</td>\n",
              "    </tr>\n",
              "    <tr>\n",
              "      <th>4</th>\n",
              "      <td>9237-HQITU</td>\n",
              "      <td>Female</td>\n",
              "      <td>0</td>\n",
              "      <td>0</td>\n",
              "      <td>0</td>\n",
              "      <td>2</td>\n",
              "      <td>1</td>\n",
              "      <td>0</td>\n",
              "      <td>Fiber optic</td>\n",
              "      <td>0</td>\n",
              "      <td>...</td>\n",
              "      <td>0</td>\n",
              "      <td>0</td>\n",
              "      <td>0</td>\n",
              "      <td>0</td>\n",
              "      <td>Month-to-month</td>\n",
              "      <td>1</td>\n",
              "      <td>Electronic check</td>\n",
              "      <td>70.70</td>\n",
              "      <td>151.65</td>\n",
              "      <td>1</td>\n",
              "    </tr>\n",
              "  </tbody>\n",
              "</table>\n",
              "<p>5 rows × 21 columns</p>\n",
              "</div>\n",
              "      <button class=\"colab-df-convert\" onclick=\"convertToInteractive('df-2d28a33a-c748-444f-8f08-f6eeddd89514')\"\n",
              "              title=\"Convert this dataframe to an interactive table.\"\n",
              "              style=\"display:none;\">\n",
              "        \n",
              "  <svg xmlns=\"http://www.w3.org/2000/svg\" height=\"24px\"viewBox=\"0 0 24 24\"\n",
              "       width=\"24px\">\n",
              "    <path d=\"M0 0h24v24H0V0z\" fill=\"none\"/>\n",
              "    <path d=\"M18.56 5.44l.94 2.06.94-2.06 2.06-.94-2.06-.94-.94-2.06-.94 2.06-2.06.94zm-11 1L8.5 8.5l.94-2.06 2.06-.94-2.06-.94L8.5 2.5l-.94 2.06-2.06.94zm10 10l.94 2.06.94-2.06 2.06-.94-2.06-.94-.94-2.06-.94 2.06-2.06.94z\"/><path d=\"M17.41 7.96l-1.37-1.37c-.4-.4-.92-.59-1.43-.59-.52 0-1.04.2-1.43.59L10.3 9.45l-7.72 7.72c-.78.78-.78 2.05 0 2.83L4 21.41c.39.39.9.59 1.41.59.51 0 1.02-.2 1.41-.59l7.78-7.78 2.81-2.81c.8-.78.8-2.07 0-2.86zM5.41 20L4 18.59l7.72-7.72 1.47 1.35L5.41 20z\"/>\n",
              "  </svg>\n",
              "      </button>\n",
              "      \n",
              "  <style>\n",
              "    .colab-df-container {\n",
              "      display:flex;\n",
              "      flex-wrap:wrap;\n",
              "      gap: 12px;\n",
              "    }\n",
              "\n",
              "    .colab-df-convert {\n",
              "      background-color: #E8F0FE;\n",
              "      border: none;\n",
              "      border-radius: 50%;\n",
              "      cursor: pointer;\n",
              "      display: none;\n",
              "      fill: #1967D2;\n",
              "      height: 32px;\n",
              "      padding: 0 0 0 0;\n",
              "      width: 32px;\n",
              "    }\n",
              "\n",
              "    .colab-df-convert:hover {\n",
              "      background-color: #E2EBFA;\n",
              "      box-shadow: 0px 1px 2px rgba(60, 64, 67, 0.3), 0px 1px 3px 1px rgba(60, 64, 67, 0.15);\n",
              "      fill: #174EA6;\n",
              "    }\n",
              "\n",
              "    [theme=dark] .colab-df-convert {\n",
              "      background-color: #3B4455;\n",
              "      fill: #D2E3FC;\n",
              "    }\n",
              "\n",
              "    [theme=dark] .colab-df-convert:hover {\n",
              "      background-color: #434B5C;\n",
              "      box-shadow: 0px 1px 3px 1px rgba(0, 0, 0, 0.15);\n",
              "      filter: drop-shadow(0px 1px 2px rgba(0, 0, 0, 0.3));\n",
              "      fill: #FFFFFF;\n",
              "    }\n",
              "  </style>\n",
              "\n",
              "      <script>\n",
              "        const buttonEl =\n",
              "          document.querySelector('#df-2d28a33a-c748-444f-8f08-f6eeddd89514 button.colab-df-convert');\n",
              "        buttonEl.style.display =\n",
              "          google.colab.kernel.accessAllowed ? 'block' : 'none';\n",
              "\n",
              "        async function convertToInteractive(key) {\n",
              "          const element = document.querySelector('#df-2d28a33a-c748-444f-8f08-f6eeddd89514');\n",
              "          const dataTable =\n",
              "            await google.colab.kernel.invokeFunction('convertToInteractive',\n",
              "                                                     [key], {});\n",
              "          if (!dataTable) return;\n",
              "\n",
              "          const docLinkHtml = 'Like what you see? Visit the ' +\n",
              "            '<a target=\"_blank\" href=https://colab.research.google.com/notebooks/data_table.ipynb>data table notebook</a>'\n",
              "            + ' to learn more about interactive tables.';\n",
              "          element.innerHTML = '';\n",
              "          dataTable['output_type'] = 'display_data';\n",
              "          await google.colab.output.renderOutput(dataTable, element);\n",
              "          const docLink = document.createElement('div');\n",
              "          docLink.innerHTML = docLinkHtml;\n",
              "          element.appendChild(docLink);\n",
              "        }\n",
              "      </script>\n",
              "    </div>\n",
              "  </div>\n",
              "  "
            ]
          },
          "metadata": {},
          "execution_count": 13
        }
      ]
    },
    {
      "cell_type": "code",
      "source": [
        "plt.bar(customer['InternetService'].value_counts().keys().tolist(),customer['InternetService'].value_counts().tolist(),color='orange')\n",
        "plt.xlabel('Categories of Internet Service')\n",
        "plt.ylabel('Count of categories')\n",
        "plt.title('Distribution of Internet Service')\n",
        "plt.show()"
      ],
      "metadata": {
        "colab": {
          "base_uri": "https://localhost:8080/",
          "height": 295
        },
        "id": "CDMxexEJv2M3",
        "outputId": "41a72b21-4a73-497c-bb96-2b03fe315f8e"
      },
      "execution_count": 14,
      "outputs": [
        {
          "output_type": "display_data",
          "data": {
            "text/plain": [
              "<Figure size 432x288 with 1 Axes>"
            ],
            "image/png": "[encoded data removed]"
          },
          "metadata": {
            "needs_background": "light"
          }
        }
      ]
    },
    {
      "cell_type": "code",
      "source": [
        "names = customer[\"Churn\"].value_counts().keys().tolist()\n",
        "sizes= customer[\"Churn\"].value_counts().tolist()"
      ],
      "metadata": {
        "id": "b02Si2SnwKjj"
      },
      "execution_count": 15,
      "outputs": []
    },
    {
      "cell_type": "code",
      "source": [],
      "metadata": {
        "id": "vK5wqg8Bzep1"
      },
      "execution_count": 15,
      "outputs": []
    },
    {
      "cell_type": "code",
      "source": [
        "plt.pie(sizes,labels=names,autopct=\"%0.1f%%\")\n",
        "plt.show()"
      ],
      "metadata": {
        "colab": {
          "base_uri": "https://localhost:8080/",
          "height": 248
        },
        "id": "topn1xsHwL2t",
        "outputId": "daed3a00-a4ec-4459-980e-09b6aa92e5c9"
      },
      "execution_count": 16,
      "outputs": [
        {
          "output_type": "display_data",
          "data": {
            "text/plain": [
              "<Figure size 432x288 with 1 Axes>"
            ],
            "image/png": "[encoded data removed]"
          },
          "metadata": {}
        }
      ]
    },
    {
      "cell_type": "code",
      "source": [
        "customer.Churn.replace({'Yes': 1,'No': 0},inplace=True)"
      ],
      "metadata": {
        "id": "BNsBnI6JCc_I"
      },
      "execution_count": 17,
      "outputs": []
    },
    {
      "cell_type": "code",
      "source": [
        "x=customer[['tenure']]\n",
        "y=customer[['Churn']]"
      ],
      "metadata": {
        "id": "3fCoIuSfzf-r"
      },
      "execution_count": 18,
      "outputs": []
    },
    {
      "cell_type": "code",
      "source": [
        "np.unique(x)"
      ],
      "metadata": {
        "colab": {
          "base_uri": "https://localhost:8080/"
        },
        "id": "L4-iLbqYAonb",
        "outputId": "5e321549-9f38-43ba-b1ca-155945553423"
      },
      "execution_count": 19,
      "outputs": [
        {
          "output_type": "execute_result",
          "data": {
            "text/plain": [
              "array([ 0,  1,  2,  3,  4,  5,  6,  7,  8,  9, 10, 11, 12, 13, 14, 15, 16,\n",
              "       17, 18, 19, 20, 21, 22, 23, 24, 25, 26, 27, 28, 29, 30, 31, 32, 33,\n",
              "       34, 35, 36, 37, 38, 39, 40, 41, 42, 43, 44, 45, 46, 47, 48, 49, 50,\n",
              "       51, 52, 53, 54, 55, 56, 57, 58, 59, 60, 61, 62, 63, 64, 65, 66, 67,\n",
              "       68, 69, 70, 71, 72])"
            ]
          },
          "metadata": {},
          "execution_count": 19
        }
      ]
    },
    {
      "cell_type": "code",
      "source": [
        "np.unique(y)"
      ],
      "metadata": {
        "colab": {
          "base_uri": "https://localhost:8080/"
        },
        "id": "ISfa0ouuA9Uv",
        "outputId": "93f7b556-6805-4e03-c396-aee7e25a243e"
      },
      "execution_count": 20,
      "outputs": [
        {
          "output_type": "execute_result",
          "data": {
            "text/plain": [
              "array([0, 1])"
            ]
          },
          "metadata": {},
          "execution_count": 20
        }
      ]
    },
    {
      "cell_type": "code",
      "source": [
        "from sklearn.model_selection import train_test_split\n",
        "x_train,x_test,y_train,y_test = train_test_split(x,y,test_size=0.30,random_state=42)"
      ],
      "metadata": {
        "id": "USSpHvvVzhm2"
      },
      "execution_count": 21,
      "outputs": []
    },
    {
      "cell_type": "code",
      "source": [
        "X_train = x_train.astype('float32')\n",
        "X_test = x_test.astype('float32')"
      ],
      "metadata": {
        "id": "XTHnmDQs7TDk"
      },
      "execution_count": 22,
      "outputs": []
    },
    {
      "cell_type": "code",
      "source": [
        "from keras.models import Sequential\n",
        "from keras.layers import Dense\n",
        "model = Sequential()\n",
        "model.add(Dense(12, input_dim=1, activation='relu'))\n",
        "model.add(Dense(8, activation='relu'))\n",
        "model.add(Dense(1, activation='sigmoid'))"
      ],
      "metadata": {
        "id": "rOKgEjsrznE2"
      },
      "execution_count": 23,
      "outputs": []
    },
    {
      "cell_type": "code",
      "source": [
        "model.compile(loss='binary_crossentropy', optimizer='adam', metrics=['accuracy'])\n"
      ],
      "metadata": {
        "id": "-MvboNjX1fZ3"
      },
      "execution_count": 24,
      "outputs": []
    },
    {
      "cell_type": "code",
      "source": [
        "x_train.shape"
      ],
      "metadata": {
        "colab": {
          "base_uri": "https://localhost:8080/"
        },
        "id": "JYICXjt88P81",
        "outputId": "dfb08e39-bd2a-4d54-f610-1241aaf91b32"
      },
      "execution_count": 25,
      "outputs": [
        {
          "output_type": "execute_result",
          "data": {
            "text/plain": [
              "(4930, 1)"
            ]
          },
          "metadata": {},
          "execution_count": 25
        }
      ]
    },
    {
      "cell_type": "code",
      "source": [
        "y_train.shape"
      ],
      "metadata": {
        "colab": {
          "base_uri": "https://localhost:8080/"
        },
        "id": "UiM0dboB8WDy",
        "outputId": "bbf46f34-2c1e-4e34-e862-429c06be677c"
      },
      "execution_count": 26,
      "outputs": [
        {
          "output_type": "execute_result",
          "data": {
            "text/plain": [
              "(4930, 1)"
            ]
          },
          "metadata": {},
          "execution_count": 26
        }
      ]
    },
    {
      "cell_type": "code",
      "source": [
        "model.fit(x_train, y_train, epochs=150,validation_data=(x_test,y_test))"
      ],
      "metadata": {
        "colab": {
          "base_uri": "https://localhost:8080/"
        },
        "id": "ZYO6ZgYz2ASF",
        "outputId": "421f129d-5f29-4836-aada-39c1554884d4"
      },
      "execution_count": 42,
      "outputs": [
        {
          "output_type": "stream",
          "name": "stdout",
          "text": [
            "Epoch 1/150\n",
            "155/155 [==============================] - 1s 4ms/step - loss: 0.5066 - accuracy: 0.7550 - val_loss: 0.5059 - val_accuracy: 0.7525\n",
            "Epoch 2/150\n",
            "155/155 [==============================] - 1s 4ms/step - loss: 0.5062 - accuracy: 0.7572 - val_loss: 0.5069 - val_accuracy: 0.7525\n",
            "Epoch 3/150\n",
            "155/155 [==============================] - 1s 4ms/step - loss: 0.5068 - accuracy: 0.7556 - val_loss: 0.5059 - val_accuracy: 0.7525\n",
            "Epoch 4/150\n",
            "155/155 [==============================] - 1s 4ms/step - loss: 0.5063 - accuracy: 0.7560 - val_loss: 0.5068 - val_accuracy: 0.7525\n",
            "Epoch 5/150\n",
            "155/155 [==============================] - 1s 4ms/step - loss: 0.5065 - accuracy: 0.7546 - val_loss: 0.5060 - val_accuracy: 0.7525\n",
            "Epoch 6/150\n",
            "155/155 [==============================] - 1s 4ms/step - loss: 0.5068 - accuracy: 0.7560 - val_loss: 0.5062 - val_accuracy: 0.7525\n",
            "Epoch 7/150\n",
            "155/155 [==============================] - 1s 4ms/step - loss: 0.5066 - accuracy: 0.7550 - val_loss: 0.5059 - val_accuracy: 0.7525\n",
            "Epoch 8/150\n",
            "155/155 [==============================] - 1s 4ms/step - loss: 0.5059 - accuracy: 0.7570 - val_loss: 0.5060 - val_accuracy: 0.7525\n",
            "Epoch 9/150\n",
            "155/155 [==============================] - 1s 4ms/step - loss: 0.5059 - accuracy: 0.7560 - val_loss: 0.5126 - val_accuracy: 0.7525\n",
            "Epoch 10/150\n",
            "155/155 [==============================] - 1s 4ms/step - loss: 0.5064 - accuracy: 0.7578 - val_loss: 0.5060 - val_accuracy: 0.7525\n",
            "Epoch 11/150\n",
            "155/155 [==============================] - 1s 4ms/step - loss: 0.5065 - accuracy: 0.7560 - val_loss: 0.5059 - val_accuracy: 0.7525\n",
            "Epoch 12/150\n",
            "155/155 [==============================] - 1s 4ms/step - loss: 0.5061 - accuracy: 0.7560 - val_loss: 0.5059 - val_accuracy: 0.7525\n",
            "Epoch 13/150\n",
            "155/155 [==============================] - 1s 4ms/step - loss: 0.5061 - accuracy: 0.7564 - val_loss: 0.5063 - val_accuracy: 0.7525\n",
            "Epoch 14/150\n",
            "155/155 [==============================] - 1s 4ms/step - loss: 0.5063 - accuracy: 0.7560 - val_loss: 0.5066 - val_accuracy: 0.7525\n",
            "Epoch 15/150\n",
            "155/155 [==============================] - 1s 4ms/step - loss: 0.5063 - accuracy: 0.7560 - val_loss: 0.5063 - val_accuracy: 0.7525\n",
            "Epoch 16/150\n",
            "155/155 [==============================] - 1s 4ms/step - loss: 0.5064 - accuracy: 0.7558 - val_loss: 0.5060 - val_accuracy: 0.7525\n",
            "Epoch 17/150\n",
            "155/155 [==============================] - 1s 4ms/step - loss: 0.5063 - accuracy: 0.7560 - val_loss: 0.5061 - val_accuracy: 0.7525\n",
            "Epoch 18/150\n",
            "155/155 [==============================] - 1s 4ms/step - loss: 0.5063 - accuracy: 0.7558 - val_loss: 0.5062 - val_accuracy: 0.7525\n",
            "Epoch 19/150\n",
            "155/155 [==============================] - 1s 4ms/step - loss: 0.5064 - accuracy: 0.7562 - val_loss: 0.5065 - val_accuracy: 0.7525\n",
            "Epoch 20/150\n",
            "155/155 [==============================] - 1s 4ms/step - loss: 0.5069 - accuracy: 0.7566 - val_loss: 0.5060 - val_accuracy: 0.7525\n",
            "Epoch 21/150\n",
            "155/155 [==============================] - 1s 4ms/step - loss: 0.5063 - accuracy: 0.7566 - val_loss: 0.5061 - val_accuracy: 0.7525\n",
            "Epoch 22/150\n",
            "155/155 [==============================] - 1s 4ms/step - loss: 0.5066 - accuracy: 0.7560 - val_loss: 0.5060 - val_accuracy: 0.7525\n",
            "Epoch 23/150\n",
            "155/155 [==============================] - 1s 4ms/step - loss: 0.5064 - accuracy: 0.7560 - val_loss: 0.5060 - val_accuracy: 0.7525\n",
            "Epoch 24/150\n",
            "155/155 [==============================] - 1s 4ms/step - loss: 0.5065 - accuracy: 0.7564 - val_loss: 0.5060 - val_accuracy: 0.7525\n",
            "Epoch 25/150\n",
            "155/155 [==============================] - 1s 4ms/step - loss: 0.5059 - accuracy: 0.7570 - val_loss: 0.5066 - val_accuracy: 0.7525\n",
            "Epoch 26/150\n",
            "155/155 [==============================] - 1s 4ms/step - loss: 0.5061 - accuracy: 0.7560 - val_loss: 0.5070 - val_accuracy: 0.7525\n",
            "Epoch 27/150\n",
            "155/155 [==============================] - 1s 4ms/step - loss: 0.5064 - accuracy: 0.7560 - val_loss: 0.5074 - val_accuracy: 0.7563\n",
            "Epoch 28/150\n",
            "155/155 [==============================] - 1s 4ms/step - loss: 0.5070 - accuracy: 0.7556 - val_loss: 0.5061 - val_accuracy: 0.7525\n",
            "Epoch 29/150\n",
            "155/155 [==============================] - 1s 4ms/step - loss: 0.5065 - accuracy: 0.7560 - val_loss: 0.5063 - val_accuracy: 0.7525\n",
            "Epoch 30/150\n",
            "155/155 [==============================] - 1s 4ms/step - loss: 0.5062 - accuracy: 0.7560 - val_loss: 0.5064 - val_accuracy: 0.7525\n",
            "Epoch 31/150\n",
            "155/155 [==============================] - 1s 4ms/step - loss: 0.5059 - accuracy: 0.7560 - val_loss: 0.5077 - val_accuracy: 0.7525\n",
            "Epoch 32/150\n",
            "155/155 [==============================] - 1s 4ms/step - loss: 0.5064 - accuracy: 0.7560 - val_loss: 0.5062 - val_accuracy: 0.7525\n",
            "Epoch 33/150\n",
            "155/155 [==============================] - 1s 4ms/step - loss: 0.5066 - accuracy: 0.7560 - val_loss: 0.5087 - val_accuracy: 0.7525\n",
            "Epoch 34/150\n",
            "155/155 [==============================] - 1s 4ms/step - loss: 0.5063 - accuracy: 0.7560 - val_loss: 0.5060 - val_accuracy: 0.7525\n",
            "Epoch 35/150\n",
            "155/155 [==============================] - 1s 4ms/step - loss: 0.5062 - accuracy: 0.7560 - val_loss: 0.5060 - val_accuracy: 0.7525\n",
            "Epoch 36/150\n",
            "155/155 [==============================] - 1s 4ms/step - loss: 0.5060 - accuracy: 0.7560 - val_loss: 0.5062 - val_accuracy: 0.7525\n",
            "Epoch 37/150\n",
            "155/155 [==============================] - 1s 4ms/step - loss: 0.5063 - accuracy: 0.7560 - val_loss: 0.5061 - val_accuracy: 0.7525\n",
            "Epoch 38/150\n",
            "155/155 [==============================] - 1s 4ms/step - loss: 0.5061 - accuracy: 0.7558 - val_loss: 0.5062 - val_accuracy: 0.7525\n",
            "Epoch 39/150\n",
            "155/155 [==============================] - 1s 4ms/step - loss: 0.5067 - accuracy: 0.7560 - val_loss: 0.5062 - val_accuracy: 0.7525\n",
            "Epoch 40/150\n",
            "155/155 [==============================] - 1s 4ms/step - loss: 0.5061 - accuracy: 0.7560 - val_loss: 0.5063 - val_accuracy: 0.7525\n",
            "Epoch 41/150\n",
            "155/155 [==============================] - 1s 4ms/step - loss: 0.5065 - accuracy: 0.7560 - val_loss: 0.5063 - val_accuracy: 0.7525\n",
            "Epoch 42/150\n",
            "155/155 [==============================] - 1s 4ms/step - loss: 0.5061 - accuracy: 0.7560 - val_loss: 0.5062 - val_accuracy: 0.7525\n",
            "Epoch 43/150\n",
            "155/155 [==============================] - 1s 4ms/step - loss: 0.5062 - accuracy: 0.7560 - val_loss: 0.5072 - val_accuracy: 0.7525\n",
            "Epoch 44/150\n",
            "155/155 [==============================] - 1s 4ms/step - loss: 0.5064 - accuracy: 0.7556 - val_loss: 0.5061 - val_accuracy: 0.7525\n",
            "Epoch 45/150\n",
            "155/155 [==============================] - 1s 4ms/step - loss: 0.5061 - accuracy: 0.7560 - val_loss: 0.5061 - val_accuracy: 0.7525\n",
            "Epoch 46/150\n",
            "155/155 [==============================] - 1s 4ms/step - loss: 0.5062 - accuracy: 0.7560 - val_loss: 0.5066 - val_accuracy: 0.7525\n",
            "Epoch 47/150\n",
            "155/155 [==============================] - 1s 4ms/step - loss: 0.5052 - accuracy: 0.7554 - val_loss: 0.5081 - val_accuracy: 0.7525\n",
            "Epoch 48/150\n",
            "155/155 [==============================] - 1s 4ms/step - loss: 0.5063 - accuracy: 0.7560 - val_loss: 0.5070 - val_accuracy: 0.7525\n",
            "Epoch 49/150\n",
            "155/155 [==============================] - 1s 4ms/step - loss: 0.5062 - accuracy: 0.7560 - val_loss: 0.5065 - val_accuracy: 0.7525\n",
            "Epoch 50/150\n",
            "155/155 [==============================] - 1s 4ms/step - loss: 0.5059 - accuracy: 0.7560 - val_loss: 0.5060 - val_accuracy: 0.7525\n",
            "Epoch 51/150\n",
            "155/155 [==============================] - 1s 4ms/step - loss: 0.5059 - accuracy: 0.7560 - val_loss: 0.5077 - val_accuracy: 0.7525\n",
            "Epoch 52/150\n",
            "155/155 [==============================] - 1s 4ms/step - loss: 0.5062 - accuracy: 0.7560 - val_loss: 0.5065 - val_accuracy: 0.7525\n",
            "Epoch 53/150\n",
            "155/155 [==============================] - 1s 4ms/step - loss: 0.5061 - accuracy: 0.7560 - val_loss: 0.5068 - val_accuracy: 0.7525\n",
            "Epoch 54/150\n",
            "155/155 [==============================] - 1s 4ms/step - loss: 0.5064 - accuracy: 0.7560 - val_loss: 0.5061 - val_accuracy: 0.7525\n",
            "Epoch 55/150\n",
            "155/155 [==============================] - 1s 4ms/step - loss: 0.5059 - accuracy: 0.7560 - val_loss: 0.5062 - val_accuracy: 0.7525\n",
            "Epoch 56/150\n",
            "155/155 [==============================] - 1s 4ms/step - loss: 0.5055 - accuracy: 0.7560 - val_loss: 0.5080 - val_accuracy: 0.7525\n",
            "Epoch 57/150\n",
            "155/155 [==============================] - 1s 4ms/step - loss: 0.5065 - accuracy: 0.7560 - val_loss: 0.5061 - val_accuracy: 0.7525\n",
            "Epoch 58/150\n",
            "155/155 [==============================] - 1s 4ms/step - loss: 0.5060 - accuracy: 0.7560 - val_loss: 0.5062 - val_accuracy: 0.7525\n",
            "Epoch 59/150\n",
            "155/155 [==============================] - 1s 4ms/step - loss: 0.5059 - accuracy: 0.7560 - val_loss: 0.5062 - val_accuracy: 0.7525\n",
            "Epoch 60/150\n",
            "155/155 [==============================] - 1s 4ms/step - loss: 0.5059 - accuracy: 0.7560 - val_loss: 0.5064 - val_accuracy: 0.7525\n",
            "Epoch 61/150\n",
            "155/155 [==============================] - 1s 4ms/step - loss: 0.5059 - accuracy: 0.7560 - val_loss: 0.5064 - val_accuracy: 0.7525\n",
            "Epoch 62/150\n",
            "155/155 [==============================] - 1s 4ms/step - loss: 0.5062 - accuracy: 0.7560 - val_loss: 0.5060 - val_accuracy: 0.7525\n",
            "Epoch 63/150\n",
            "155/155 [==============================] - 1s 4ms/step - loss: 0.5061 - accuracy: 0.7560 - val_loss: 0.5061 - val_accuracy: 0.7525\n",
            "Epoch 64/150\n",
            "155/155 [==============================] - 1s 4ms/step - loss: 0.5061 - accuracy: 0.7560 - val_loss: 0.5062 - val_accuracy: 0.7525\n",
            "Epoch 65/150\n",
            "155/155 [==============================] - 1s 4ms/step - loss: 0.5061 - accuracy: 0.7560 - val_loss: 0.5060 - val_accuracy: 0.7525\n",
            "Epoch 66/150\n",
            "155/155 [==============================] - 1s 4ms/step - loss: 0.5058 - accuracy: 0.7560 - val_loss: 0.5060 - val_accuracy: 0.7525\n",
            "Epoch 67/150\n",
            "155/155 [==============================] - 1s 4ms/step - loss: 0.5063 - accuracy: 0.7560 - val_loss: 0.5061 - val_accuracy: 0.7525\n",
            "Epoch 68/150\n",
            "155/155 [==============================] - 1s 4ms/step - loss: 0.5058 - accuracy: 0.7560 - val_loss: 0.5077 - val_accuracy: 0.7525\n",
            "Epoch 69/150\n",
            "155/155 [==============================] - 1s 4ms/step - loss: 0.5067 - accuracy: 0.7554 - val_loss: 0.5065 - val_accuracy: 0.7563\n",
            "Epoch 70/150\n",
            "155/155 [==============================] - 1s 4ms/step - loss: 0.5065 - accuracy: 0.7558 - val_loss: 0.5060 - val_accuracy: 0.7525\n",
            "Epoch 71/150\n",
            "155/155 [==============================] - 1s 4ms/step - loss: 0.5054 - accuracy: 0.7558 - val_loss: 0.5077 - val_accuracy: 0.7525\n",
            "Epoch 72/150\n",
            "155/155 [==============================] - 1s 4ms/step - loss: 0.5064 - accuracy: 0.7560 - val_loss: 0.5064 - val_accuracy: 0.7525\n",
            "Epoch 73/150\n",
            "155/155 [==============================] - 1s 4ms/step - loss: 0.5061 - accuracy: 0.7560 - val_loss: 0.5065 - val_accuracy: 0.7525\n",
            "Epoch 74/150\n",
            "155/155 [==============================] - 1s 4ms/step - loss: 0.5062 - accuracy: 0.7556 - val_loss: 0.5064 - val_accuracy: 0.7525\n",
            "Epoch 75/150\n",
            "155/155 [==============================] - 1s 4ms/step - loss: 0.5060 - accuracy: 0.7560 - val_loss: 0.5067 - val_accuracy: 0.7525\n",
            "Epoch 76/150\n",
            "155/155 [==============================] - 1s 4ms/step - loss: 0.5062 - accuracy: 0.7560 - val_loss: 0.5060 - val_accuracy: 0.7525\n",
            "Epoch 77/150\n",
            "155/155 [==============================] - 1s 4ms/step - loss: 0.5061 - accuracy: 0.7560 - val_loss: 0.5061 - val_accuracy: 0.7525\n",
            "Epoch 78/150\n",
            "155/155 [==============================] - 1s 4ms/step - loss: 0.5060 - accuracy: 0.7560 - val_loss: 0.5068 - val_accuracy: 0.7525\n",
            "Epoch 79/150\n",
            "155/155 [==============================] - 1s 4ms/step - loss: 0.5060 - accuracy: 0.7560 - val_loss: 0.5063 - val_accuracy: 0.7525\n",
            "Epoch 80/150\n",
            "155/155 [==============================] - 1s 4ms/step - loss: 0.5060 - accuracy: 0.7560 - val_loss: 0.5060 - val_accuracy: 0.7525\n",
            "Epoch 81/150\n",
            "155/155 [==============================] - 1s 4ms/step - loss: 0.5063 - accuracy: 0.7560 - val_loss: 0.5071 - val_accuracy: 0.7525\n",
            "Epoch 82/150\n",
            "155/155 [==============================] - 1s 4ms/step - loss: 0.5068 - accuracy: 0.7560 - val_loss: 0.5061 - val_accuracy: 0.7525\n",
            "Epoch 83/150\n",
            "155/155 [==============================] - 1s 4ms/step - loss: 0.5059 - accuracy: 0.7560 - val_loss: 0.5060 - val_accuracy: 0.7525\n",
            "Epoch 84/150\n",
            "155/155 [==============================] - 1s 4ms/step - loss: 0.5057 - accuracy: 0.7560 - val_loss: 0.5065 - val_accuracy: 0.7525\n",
            "Epoch 85/150\n",
            "155/155 [==============================] - 1s 4ms/step - loss: 0.5057 - accuracy: 0.7560 - val_loss: 0.5069 - val_accuracy: 0.7525\n",
            "Epoch 86/150\n",
            "155/155 [==============================] - 1s 4ms/step - loss: 0.5064 - accuracy: 0.7560 - val_loss: 0.5061 - val_accuracy: 0.7525\n",
            "Epoch 87/150\n",
            "155/155 [==============================] - 1s 4ms/step - loss: 0.5062 - accuracy: 0.7560 - val_loss: 0.5060 - val_accuracy: 0.7525\n",
            "Epoch 88/150\n",
            "155/155 [==============================] - 1s 4ms/step - loss: 0.5061 - accuracy: 0.7560 - val_loss: 0.5069 - val_accuracy: 0.7525\n",
            "Epoch 89/150\n",
            "155/155 [==============================] - 1s 4ms/step - loss: 0.5062 - accuracy: 0.7560 - val_loss: 0.5062 - val_accuracy: 0.7525\n",
            "Epoch 90/150\n",
            "155/155 [==============================] - 1s 4ms/step - loss: 0.5065 - accuracy: 0.7560 - val_loss: 0.5060 - val_accuracy: 0.7525\n",
            "Epoch 91/150\n",
            "155/155 [==============================] - 1s 4ms/step - loss: 0.5059 - accuracy: 0.7560 - val_loss: 0.5065 - val_accuracy: 0.7525\n",
            "Epoch 92/150\n",
            "155/155 [==============================] - 1s 4ms/step - loss: 0.5062 - accuracy: 0.7560 - val_loss: 0.5061 - val_accuracy: 0.7525\n",
            "Epoch 93/150\n",
            "155/155 [==============================] - 1s 4ms/step - loss: 0.5061 - accuracy: 0.7554 - val_loss: 0.5060 - val_accuracy: 0.7525\n",
            "Epoch 94/150\n",
            "155/155 [==============================] - 1s 4ms/step - loss: 0.5059 - accuracy: 0.7560 - val_loss: 0.5086 - val_accuracy: 0.7525\n",
            "Epoch 95/150\n",
            "155/155 [==============================] - 1s 4ms/step - loss: 0.5065 - accuracy: 0.7560 - val_loss: 0.5060 - val_accuracy: 0.7525\n",
            "Epoch 96/150\n",
            "155/155 [==============================] - 1s 4ms/step - loss: 0.5064 - accuracy: 0.7560 - val_loss: 0.5060 - val_accuracy: 0.7525\n",
            "Epoch 97/150\n",
            "155/155 [==============================] - 1s 4ms/step - loss: 0.5063 - accuracy: 0.7560 - val_loss: 0.5060 - val_accuracy: 0.7525\n",
            "Epoch 98/150\n",
            "155/155 [==============================] - 1s 4ms/step - loss: 0.5059 - accuracy: 0.7560 - val_loss: 0.5059 - val_accuracy: 0.7525\n",
            "Epoch 99/150\n",
            "155/155 [==============================] - 1s 4ms/step - loss: 0.5064 - accuracy: 0.7560 - val_loss: 0.5063 - val_accuracy: 0.7525\n",
            "Epoch 100/150\n",
            "155/155 [==============================] - 1s 4ms/step - loss: 0.5054 - accuracy: 0.7560 - val_loss: 0.5059 - val_accuracy: 0.7525\n",
            "Epoch 101/150\n",
            "155/155 [==============================] - 1s 4ms/step - loss: 0.5060 - accuracy: 0.7560 - val_loss: 0.5059 - val_accuracy: 0.7525\n",
            "Epoch 102/150\n",
            "155/155 [==============================] - 1s 4ms/step - loss: 0.5061 - accuracy: 0.7560 - val_loss: 0.5059 - val_accuracy: 0.7525\n",
            "Epoch 103/150\n",
            "155/155 [==============================] - 1s 4ms/step - loss: 0.5057 - accuracy: 0.7562 - val_loss: 0.5076 - val_accuracy: 0.7525\n",
            "Epoch 104/150\n",
            "155/155 [==============================] - 1s 4ms/step - loss: 0.5066 - accuracy: 0.7560 - val_loss: 0.5065 - val_accuracy: 0.7525\n",
            "Epoch 105/150\n",
            "155/155 [==============================] - 1s 4ms/step - loss: 0.5060 - accuracy: 0.7560 - val_loss: 0.5060 - val_accuracy: 0.7525\n",
            "Epoch 106/150\n",
            "155/155 [==============================] - 1s 4ms/step - loss: 0.5062 - accuracy: 0.7560 - val_loss: 0.5060 - val_accuracy: 0.7525\n",
            "Epoch 107/150\n",
            "155/155 [==============================] - 1s 4ms/step - loss: 0.5056 - accuracy: 0.7560 - val_loss: 0.5064 - val_accuracy: 0.7525\n",
            "Epoch 108/150\n",
            "155/155 [==============================] - 1s 4ms/step - loss: 0.5062 - accuracy: 0.7560 - val_loss: 0.5067 - val_accuracy: 0.7525\n",
            "Epoch 109/150\n",
            "155/155 [==============================] - 1s 4ms/step - loss: 0.5058 - accuracy: 0.7560 - val_loss: 0.5062 - val_accuracy: 0.7525\n",
            "Epoch 110/150\n",
            "155/155 [==============================] - 1s 4ms/step - loss: 0.5059 - accuracy: 0.7560 - val_loss: 0.5070 - val_accuracy: 0.7525\n",
            "Epoch 111/150\n",
            "155/155 [==============================] - 1s 4ms/step - loss: 0.5062 - accuracy: 0.7560 - val_loss: 0.5060 - val_accuracy: 0.7525\n",
            "Epoch 112/150\n",
            "155/155 [==============================] - 1s 4ms/step - loss: 0.5065 - accuracy: 0.7560 - val_loss: 0.5059 - val_accuracy: 0.7525\n",
            "Epoch 113/150\n",
            "155/155 [==============================] - 1s 4ms/step - loss: 0.5060 - accuracy: 0.7560 - val_loss: 0.5060 - val_accuracy: 0.7525\n",
            "Epoch 114/150\n",
            "155/155 [==============================] - 1s 4ms/step - loss: 0.5060 - accuracy: 0.7560 - val_loss: 0.5063 - val_accuracy: 0.7525\n",
            "Epoch 115/150\n",
            "155/155 [==============================] - 1s 5ms/step - loss: 0.5059 - accuracy: 0.7560 - val_loss: 0.5060 - val_accuracy: 0.7525\n",
            "Epoch 116/150\n",
            "155/155 [==============================] - 1s 7ms/step - loss: 0.5060 - accuracy: 0.7560 - val_loss: 0.5060 - val_accuracy: 0.7525\n",
            "Epoch 117/150\n",
            "155/155 [==============================] - 1s 4ms/step - loss: 0.5059 - accuracy: 0.7560 - val_loss: 0.5068 - val_accuracy: 0.7525\n",
            "Epoch 118/150\n",
            "155/155 [==============================] - 1s 4ms/step - loss: 0.5064 - accuracy: 0.7560 - val_loss: 0.5060 - val_accuracy: 0.7525\n",
            "Epoch 119/150\n",
            "155/155 [==============================] - 1s 4ms/step - loss: 0.5064 - accuracy: 0.7560 - val_loss: 0.5059 - val_accuracy: 0.7525\n",
            "Epoch 120/150\n",
            "155/155 [==============================] - 1s 4ms/step - loss: 0.5065 - accuracy: 0.7560 - val_loss: 0.5060 - val_accuracy: 0.7525\n",
            "Epoch 121/150\n",
            "155/155 [==============================] - 1s 4ms/step - loss: 0.5060 - accuracy: 0.7560 - val_loss: 0.5068 - val_accuracy: 0.7525\n",
            "Epoch 122/150\n",
            "155/155 [==============================] - 1s 4ms/step - loss: 0.5060 - accuracy: 0.7566 - val_loss: 0.5064 - val_accuracy: 0.7525\n",
            "Epoch 123/150\n",
            "155/155 [==============================] - 1s 7ms/step - loss: 0.5061 - accuracy: 0.7560 - val_loss: 0.5062 - val_accuracy: 0.7525\n",
            "Epoch 124/150\n",
            "155/155 [==============================] - 1s 5ms/step - loss: 0.5060 - accuracy: 0.7560 - val_loss: 0.5060 - val_accuracy: 0.7525\n",
            "Epoch 125/150\n",
            "155/155 [==============================] - 1s 4ms/step - loss: 0.5060 - accuracy: 0.7560 - val_loss: 0.5060 - val_accuracy: 0.7525\n",
            "Epoch 126/150\n",
            "155/155 [==============================] - 1s 4ms/step - loss: 0.5066 - accuracy: 0.7560 - val_loss: 0.5060 - val_accuracy: 0.7525\n",
            "Epoch 127/150\n",
            "155/155 [==============================] - 1s 4ms/step - loss: 0.5061 - accuracy: 0.7560 - val_loss: 0.5062 - val_accuracy: 0.7525\n",
            "Epoch 128/150\n",
            "155/155 [==============================] - 1s 4ms/step - loss: 0.5060 - accuracy: 0.7560 - val_loss: 0.5059 - val_accuracy: 0.7525\n",
            "Epoch 129/150\n",
            "155/155 [==============================] - 1s 4ms/step - loss: 0.5062 - accuracy: 0.7562 - val_loss: 0.5059 - val_accuracy: 0.7525\n",
            "Epoch 130/150\n",
            "155/155 [==============================] - 1s 4ms/step - loss: 0.5062 - accuracy: 0.7560 - val_loss: 0.5060 - val_accuracy: 0.7525\n",
            "Epoch 131/150\n",
            "155/155 [==============================] - 1s 4ms/step - loss: 0.5060 - accuracy: 0.7564 - val_loss: 0.5060 - val_accuracy: 0.7525\n",
            "Epoch 132/150\n",
            "155/155 [==============================] - 1s 4ms/step - loss: 0.5060 - accuracy: 0.7560 - val_loss: 0.5060 - val_accuracy: 0.7525\n",
            "Epoch 133/150\n",
            "155/155 [==============================] - 1s 4ms/step - loss: 0.5057 - accuracy: 0.7562 - val_loss: 0.5068 - val_accuracy: 0.7525\n",
            "Epoch 134/150\n",
            "155/155 [==============================] - 1s 4ms/step - loss: 0.5063 - accuracy: 0.7560 - val_loss: 0.5071 - val_accuracy: 0.7525\n",
            "Epoch 135/150\n",
            "155/155 [==============================] - 1s 4ms/step - loss: 0.5062 - accuracy: 0.7560 - val_loss: 0.5063 - val_accuracy: 0.7525\n",
            "Epoch 136/150\n",
            "155/155 [==============================] - 1s 4ms/step - loss: 0.5060 - accuracy: 0.7546 - val_loss: 0.5065 - val_accuracy: 0.7525\n",
            "Epoch 137/150\n",
            "155/155 [==============================] - 1s 4ms/step - loss: 0.5060 - accuracy: 0.7560 - val_loss: 0.5060 - val_accuracy: 0.7525\n",
            "Epoch 138/150\n",
            "155/155 [==============================] - 1s 4ms/step - loss: 0.5063 - accuracy: 0.7560 - val_loss: 0.5063 - val_accuracy: 0.7525\n",
            "Epoch 139/150\n",
            "155/155 [==============================] - 1s 4ms/step - loss: 0.5060 - accuracy: 0.7560 - val_loss: 0.5064 - val_accuracy: 0.7525\n",
            "Epoch 140/150\n",
            "155/155 [==============================] - 1s 4ms/step - loss: 0.5060 - accuracy: 0.7560 - val_loss: 0.5061 - val_accuracy: 0.7525\n",
            "Epoch 141/150\n",
            "155/155 [==============================] - 1s 4ms/step - loss: 0.5063 - accuracy: 0.7560 - val_loss: 0.5060 - val_accuracy: 0.7525\n",
            "Epoch 142/150\n",
            "155/155 [==============================] - 1s 4ms/step - loss: 0.5064 - accuracy: 0.7560 - val_loss: 0.5060 - val_accuracy: 0.7525\n",
            "Epoch 143/150\n",
            "155/155 [==============================] - 1s 4ms/step - loss: 0.5059 - accuracy: 0.7560 - val_loss: 0.5060 - val_accuracy: 0.7525\n",
            "Epoch 144/150\n",
            "155/155 [==============================] - 1s 4ms/step - loss: 0.5060 - accuracy: 0.7560 - val_loss: 0.5060 - val_accuracy: 0.7525\n",
            "Epoch 145/150\n",
            "155/155 [==============================] - 1s 4ms/step - loss: 0.5057 - accuracy: 0.7560 - val_loss: 0.5070 - val_accuracy: 0.7525\n",
            "Epoch 146/150\n",
            "155/155 [==============================] - 1s 4ms/step - loss: 0.5057 - accuracy: 0.7560 - val_loss: 0.5061 - val_accuracy: 0.7525\n",
            "Epoch 147/150\n",
            "155/155 [==============================] - 1s 4ms/step - loss: 0.5063 - accuracy: 0.7556 - val_loss: 0.5066 - val_accuracy: 0.7525\n",
            "Epoch 148/150\n",
            "155/155 [==============================] - 1s 4ms/step - loss: 0.5061 - accuracy: 0.7560 - val_loss: 0.5060 - val_accuracy: 0.7525\n",
            "Epoch 149/150\n",
            "155/155 [==============================] - 1s 4ms/step - loss: 0.5060 - accuracy: 0.7560 - val_loss: 0.5071 - val_accuracy: 0.7525\n",
            "Epoch 150/150\n",
            "155/155 [==============================] - 1s 4ms/step - loss: 0.5058 - accuracy: 0.7560 - val_loss: 0.5062 - val_accuracy: 0.7525\n"
          ]
        },
        {
          "output_type": "execute_result",
          "data": {
            "text/plain": [
              "<keras.callbacks.History at 0x7f520712ad90>"
            ]
          },
          "metadata": {},
          "execution_count": 42
        }
      ]
    },
    {
      "cell_type": "code",
      "source": [
        "import numpy as np\n",
        "np.mean(model.history.history['val_accuracy'])"
      ],
      "metadata": {
        "colab": {
          "base_uri": "https://localhost:8080/"
        },
        "id": "Rg-kxKYZKyz0",
        "outputId": "3cc33453-390d-4464-a435-e3d593ac19b2"
      },
      "execution_count": 28,
      "outputs": [
        {
          "output_type": "execute_result",
          "data": {
            "text/plain": [
              "0.7409433643023173"
            ]
          },
          "metadata": {},
          "execution_count": 28
        }
      ]
    },
    {
      "cell_type": "code",
      "source": [
        "np.mean(model.history.history['accuracy'])"
      ],
      "metadata": {
        "colab": {
          "base_uri": "https://localhost:8080/"
        },
        "id": "8UPJXxaYMwdU",
        "outputId": "5b297f5e-c04e-49a2-87a3-8a43c2ed1ff0"
      },
      "execution_count": 29,
      "outputs": [
        {
          "output_type": "execute_result",
          "data": {
            "text/plain": [
              "0.745978358189265"
            ]
          },
          "metadata": {},
          "execution_count": 29
        }
      ]
    },
    {
      "cell_type": "code",
      "source": [
        "model.evaluate(x_test,y_test)"
      ],
      "metadata": {
        "colab": {
          "base_uri": "https://localhost:8080/"
        },
        "id": "HlrBYnpqLoOz",
        "outputId": "b811ae4f-3d7d-45ce-f8ab-266ec39ebec8"
      },
      "execution_count": 30,
      "outputs": [
        {
          "output_type": "stream",
          "name": "stdout",
          "text": [
            "67/67 [==============================] - 0s 2ms/step - loss: 0.5061 - accuracy: 0.7525\n"
          ]
        },
        {
          "output_type": "execute_result",
          "data": {
            "text/plain": [
              "[0.5061025023460388, 0.7524846196174622]"
            ]
          },
          "metadata": {},
          "execution_count": 30
        }
      ]
    },
    {
      "cell_type": "code",
      "source": [
        "yp = model.predict(X_test)\n",
        "yp[:5]"
      ],
      "metadata": {
        "colab": {
          "base_uri": "https://localhost:8080/"
        },
        "id": "g68EF9b1LL-T",
        "outputId": "71d1e697-6f9f-4e61-aca0-408d74afd30e"
      },
      "execution_count": 31,
      "outputs": [
        {
          "output_type": "stream",
          "name": "stdout",
          "text": [
            "67/67 [==============================] - 0s 1ms/step\n"
          ]
        },
        {
          "output_type": "execute_result",
          "data": {
            "text/plain": [
              "array([[0.5679664 ],\n",
              "       [0.17916116],\n",
              "       [0.13470946],\n",
              "       [0.5679664 ],\n",
              "       [0.08942118]], dtype=float32)"
            ]
          },
          "metadata": {},
          "execution_count": 31
        }
      ]
    },
    {
      "cell_type": "code",
      "source": [
        "y_pred = []\n",
        "for element in yp:\n",
        "    if element > 0.5:\n",
        "        y_pred.append(1)\n",
        "    else:\n",
        "        y_pred.append(0)"
      ],
      "metadata": {
        "id": "F5n3tVgZL8AV"
      },
      "execution_count": 32,
      "outputs": []
    },
    {
      "cell_type": "code",
      "source": [
        "from sklearn.metrics import confusion_matrix , classification_report\n",
        "\n",
        "print(classification_report(y_test,y_pred))"
      ],
      "metadata": {
        "colab": {
          "base_uri": "https://localhost:8080/"
        },
        "id": "EDc8rk1VLUV7",
        "outputId": "53f690fb-22b3-43e7-cb6d-b070680e05ce"
      },
      "execution_count": 33,
      "outputs": [
        {
          "output_type": "stream",
          "name": "stdout",
          "text": [
            "              precision    recall  f1-score   support\n",
            "\n",
            "           0       0.79      0.91      0.84      1539\n",
            "           1       0.58      0.34      0.43       574\n",
            "\n",
            "    accuracy                           0.75      2113\n",
            "   macro avg       0.68      0.62      0.63      2113\n",
            "weighted avg       0.73      0.75      0.73      2113\n",
            "\n"
          ]
        }
      ]
    },
    {
      "cell_type": "code",
      "source": [
        "import seaborn as sn\n",
        "cm = tf.math.confusion_matrix(labels=y_test,predictions=y_pred)\n",
        "\n",
        "plt.figure(figsize = (10,7))\n",
        "sn.heatmap(cm, annot=True, fmt='d')\n",
        "plt.xlabel('Predicted')\n",
        "plt.ylabel('Truth')"
      ],
      "metadata": {
        "colab": {
          "base_uri": "https://localhost:8080/",
          "height": 459
        },
        "id": "xoAoyIQTMEN5",
        "outputId": "aa071960-843f-49b5-c2a5-4bae8cc70ce2"
      },
      "execution_count": 34,
      "outputs": [
        {
          "output_type": "execute_result",
          "data": {
            "text/plain": [
              "Text(69.0, 0.5, 'Truth')"
            ]
          },
          "metadata": {},
          "execution_count": 34
        },
        {
          "output_type": "display_data",
          "data": {
            "text/plain": [
              "<Figure size 720x504 with 2 Axes>"
            ],
            "image/png": "[encoded data removed]"
          },
          "metadata": {
            "needs_background": "light"
          }
        }
      ]
    },
    {
      "cell_type": "code",
      "source": [
        "model.metrics_names"
      ],
      "metadata": {
        "colab": {
          "base_uri": "https://localhost:8080/"
        },
        "id": "bLBKsIxxUh8I",
        "outputId": "5a773fc0-79dd-48e8-8a99-993ffb379687"
      },
      "execution_count": 43,
      "outputs": [
        {
          "output_type": "execute_result",
          "data": {
            "text/plain": [
              "['loss', 'accuracy']"
            ]
          },
          "metadata": {},
          "execution_count": 43
        }
      ]
    },
    {
      "cell_type": "code",
      "source": [
        "print(model.history.history.keys()) "
      ],
      "metadata": {
        "colab": {
          "base_uri": "https://localhost:8080/"
        },
        "id": "YdJsX_OdU-H8",
        "outputId": "2ba3fbc7-f929-4a09-c58f-7820ed8bcf46"
      },
      "execution_count": 44,
      "outputs": [
        {
          "output_type": "stream",
          "name": "stdout",
          "text": [
            "dict_keys(['loss', 'accuracy', 'val_loss', 'val_accuracy'])\n"
          ]
        }
      ]
    },
    {
      "cell_type": "code",
      "source": [
        "from matplotlib import pyplot as plt\n",
        "plt.plot(model.history.history['accuracy'])\n",
        "plt.plot(model.history.history['val_accuracy'])\n",
        "plt.show()"
      ],
      "metadata": {
        "colab": {
          "base_uri": "https://localhost:8080/",
          "height": 267
        },
        "id": "9SSOtbP-MXj9",
        "outputId": "51bbbe56-9220-4c2c-d243-cd0667d86290"
      },
      "execution_count": 46,
      "outputs": [
        {
          "output_type": "display_data",
          "data": {
            "text/plain": [
              "<Figure size 432x288 with 1 Axes>"
            ],
            "image/png": "[encoded data removed]"
          },
          "metadata": {
            "needs_background": "light"
          }
        }
      ]
    },
    {
      "cell_type": "code",
      "source": [
        "#2nd model, where we are adding a drop-out layer after the input layer and the hidden layer"
      ],
      "metadata": {
        "id": "jPLbkE9DTJT2"
      },
      "execution_count": 47,
      "outputs": []
    },
    {
      "cell_type": "code",
      "source": [
        "from tensorflow.keras.layers import Dropout\n",
        "model = Sequential()\n",
        "model.add(Dense(12, input_dim=1, activation='relu'))\n",
        "model.add(Dropout(0.3))\n",
        "model.add(Dense(8, activation='relu'))\n",
        "model.add(Dropout(0.2))\n",
        "model.add(Dense(1, activation='sigmoid'))"
      ],
      "metadata": {
        "id": "6zSBdH9NTMj0"
      },
      "execution_count": 48,
      "outputs": []
    },
    {
      "cell_type": "code",
      "source": [
        "model.compile(loss='binary_crossentropy', optimizer='adam', metrics=['accuracy'])\n",
        "model.fit(x_train, y_train, epochs=100,validation_data=(x_test,y_test))\n"
      ],
      "metadata": {
        "colab": {
          "base_uri": "https://localhost:8080/"
        },
        "id": "krADaPwQT5Uv",
        "outputId": "baee93e8-a4e0-43fc-8ac4-af689e31282a"
      },
      "execution_count": 98,
      "outputs": [
        {
          "output_type": "stream",
          "name": "stdout",
          "text": [
            "Epoch 1/100\n",
            "155/155 [==============================] - 2s 8ms/step - loss: 1.1015 - accuracy: 0.7497 - val_loss: 0.5633 - val_accuracy: 0.7885\n",
            "Epoch 2/100\n",
            "155/155 [==============================] - 1s 9ms/step - loss: 0.8052 - accuracy: 0.7404 - val_loss: 3.4539 - val_accuracy: 0.4647\n",
            "Epoch 3/100\n",
            "155/155 [==============================] - 1s 7ms/step - loss: 0.7982 - accuracy: 0.7420 - val_loss: 1.1634 - val_accuracy: 0.7709\n",
            "Epoch 4/100\n",
            "155/155 [==============================] - 1s 7ms/step - loss: 0.6650 - accuracy: 0.7550 - val_loss: 0.6383 - val_accuracy: 0.6451\n",
            "Epoch 5/100\n",
            "155/155 [==============================] - 1s 7ms/step - loss: 0.6404 - accuracy: 0.7465 - val_loss: 0.5245 - val_accuracy: 0.7899\n",
            "Epoch 6/100\n",
            "155/155 [==============================] - 1s 6ms/step - loss: 0.8523 - accuracy: 0.7426 - val_loss: 0.5110 - val_accuracy: 0.7861\n",
            "Epoch 7/100\n",
            "155/155 [==============================] - 1s 8ms/step - loss: 0.6345 - accuracy: 0.7501 - val_loss: 0.9266 - val_accuracy: 0.7776\n",
            "Epoch 8/100\n",
            "155/155 [==============================] - 1s 4ms/step - loss: 0.7371 - accuracy: 0.7424 - val_loss: 0.4768 - val_accuracy: 0.7567\n",
            "Epoch 9/100\n",
            "155/155 [==============================] - 1s 4ms/step - loss: 0.6144 - accuracy: 0.7576 - val_loss: 1.7477 - val_accuracy: 0.4908\n",
            "Epoch 10/100\n",
            "155/155 [==============================] - 1s 4ms/step - loss: 0.8479 - accuracy: 0.7444 - val_loss: 0.4753 - val_accuracy: 0.7567\n",
            "Epoch 11/100\n",
            "155/155 [==============================] - 1s 4ms/step - loss: 0.7623 - accuracy: 0.7495 - val_loss: 0.5328 - val_accuracy: 0.7875\n",
            "Epoch 12/100\n",
            "155/155 [==============================] - 1s 4ms/step - loss: 0.6732 - accuracy: 0.7481 - val_loss: 1.6955 - val_accuracy: 0.4912\n",
            "Epoch 13/100\n",
            "155/155 [==============================] - 1s 4ms/step - loss: 0.7286 - accuracy: 0.7485 - val_loss: 1.8030 - val_accuracy: 0.4894\n",
            "Epoch 14/100\n",
            "155/155 [==============================] - 1s 4ms/step - loss: 1.0862 - accuracy: 0.7339 - val_loss: 0.4599 - val_accuracy: 0.7700\n",
            "Epoch 15/100\n",
            "155/155 [==============================] - 1s 4ms/step - loss: 0.7805 - accuracy: 0.7420 - val_loss: 0.6729 - val_accuracy: 0.7818\n",
            "Epoch 16/100\n",
            "155/155 [==============================] - 1s 4ms/step - loss: 0.6819 - accuracy: 0.7574 - val_loss: 0.4637 - val_accuracy: 0.7851\n",
            "Epoch 17/100\n",
            "155/155 [==============================] - 1s 4ms/step - loss: 0.6153 - accuracy: 0.7562 - val_loss: 0.5464 - val_accuracy: 0.6796\n",
            "Epoch 18/100\n",
            "155/155 [==============================] - 1s 4ms/step - loss: 0.6480 - accuracy: 0.7491 - val_loss: 0.5266 - val_accuracy: 0.7847\n",
            "Epoch 19/100\n",
            "155/155 [==============================] - 1s 4ms/step - loss: 0.7250 - accuracy: 0.7416 - val_loss: 0.5035 - val_accuracy: 0.7861\n",
            "Epoch 20/100\n",
            "155/155 [==============================] - 1s 4ms/step - loss: 0.7766 - accuracy: 0.7469 - val_loss: 0.8482 - val_accuracy: 0.7804\n",
            "Epoch 21/100\n",
            "155/155 [==============================] - 1s 4ms/step - loss: 0.7731 - accuracy: 0.7527 - val_loss: 0.8192 - val_accuracy: 0.5878\n",
            "Epoch 22/100\n",
            "155/155 [==============================] - 1s 4ms/step - loss: 0.6371 - accuracy: 0.7485 - val_loss: 0.4992 - val_accuracy: 0.7885\n",
            "Epoch 23/100\n",
            "155/155 [==============================] - 1s 7ms/step - loss: 0.6901 - accuracy: 0.7489 - val_loss: 0.7484 - val_accuracy: 0.7799\n",
            "Epoch 24/100\n",
            "155/155 [==============================] - 1s 7ms/step - loss: 0.8424 - accuracy: 0.7398 - val_loss: 0.4720 - val_accuracy: 0.7866\n",
            "Epoch 25/100\n",
            "155/155 [==============================] - 1s 4ms/step - loss: 0.9841 - accuracy: 0.7428 - val_loss: 0.6004 - val_accuracy: 0.7866\n",
            "Epoch 26/100\n",
            "155/155 [==============================] - 1s 6ms/step - loss: 0.5656 - accuracy: 0.7663 - val_loss: 0.9368 - val_accuracy: 0.7738\n",
            "Epoch 27/100\n",
            "155/155 [==============================] - 1s 7ms/step - loss: 0.6437 - accuracy: 0.7617 - val_loss: 0.8769 - val_accuracy: 0.5831\n",
            "Epoch 28/100\n",
            "155/155 [==============================] - 1s 4ms/step - loss: 0.5644 - accuracy: 0.7631 - val_loss: 0.8381 - val_accuracy: 0.7738\n",
            "Epoch 29/100\n",
            "155/155 [==============================] - 1s 4ms/step - loss: 0.6705 - accuracy: 0.7485 - val_loss: 0.8269 - val_accuracy: 0.7757\n",
            "Epoch 30/100\n",
            "155/155 [==============================] - 1s 4ms/step - loss: 0.6067 - accuracy: 0.7517 - val_loss: 0.5945 - val_accuracy: 0.7780\n",
            "Epoch 31/100\n",
            "155/155 [==============================] - 1s 4ms/step - loss: 0.6445 - accuracy: 0.7513 - val_loss: 1.0212 - val_accuracy: 0.7728\n",
            "Epoch 32/100\n",
            "155/155 [==============================] - 1s 4ms/step - loss: 0.8670 - accuracy: 0.7363 - val_loss: 0.4768 - val_accuracy: 0.7586\n",
            "Epoch 33/100\n",
            "155/155 [==============================] - 1s 7ms/step - loss: 0.6867 - accuracy: 0.7475 - val_loss: 0.5596 - val_accuracy: 0.7880\n",
            "Epoch 34/100\n",
            "155/155 [==============================] - 1s 5ms/step - loss: 0.6930 - accuracy: 0.7519 - val_loss: 0.8437 - val_accuracy: 0.7799\n",
            "Epoch 35/100\n",
            "155/155 [==============================] - 1s 6ms/step - loss: 0.7240 - accuracy: 0.7454 - val_loss: 0.5761 - val_accuracy: 0.7861\n",
            "Epoch 36/100\n",
            "155/155 [==============================] - 1s 7ms/step - loss: 0.7483 - accuracy: 0.7515 - val_loss: 0.5029 - val_accuracy: 0.7624\n",
            "Epoch 37/100\n",
            "155/155 [==============================] - 1s 4ms/step - loss: 0.6343 - accuracy: 0.7487 - val_loss: 0.4627 - val_accuracy: 0.7870\n",
            "Epoch 38/100\n",
            "155/155 [==============================] - 1s 4ms/step - loss: 0.6180 - accuracy: 0.7572 - val_loss: 0.4463 - val_accuracy: 0.7903\n",
            "Epoch 39/100\n",
            "155/155 [==============================] - 1s 4ms/step - loss: 0.6163 - accuracy: 0.7590 - val_loss: 0.6817 - val_accuracy: 0.7771\n",
            "Epoch 40/100\n",
            "155/155 [==============================] - 1s 4ms/step - loss: 0.7024 - accuracy: 0.7505 - val_loss: 0.9988 - val_accuracy: 0.7771\n",
            "Epoch 41/100\n",
            "155/155 [==============================] - 1s 4ms/step - loss: 0.8836 - accuracy: 0.7406 - val_loss: 0.9996 - val_accuracy: 0.7776\n",
            "Epoch 42/100\n",
            "155/155 [==============================] - 1s 4ms/step - loss: 0.6782 - accuracy: 0.7420 - val_loss: 0.4842 - val_accuracy: 0.7880\n",
            "Epoch 43/100\n",
            "155/155 [==============================] - 1s 4ms/step - loss: 0.6374 - accuracy: 0.7527 - val_loss: 0.4684 - val_accuracy: 0.7866\n",
            "Epoch 44/100\n",
            "155/155 [==============================] - 1s 4ms/step - loss: 0.5855 - accuracy: 0.7570 - val_loss: 0.8205 - val_accuracy: 0.7771\n",
            "Epoch 45/100\n",
            "155/155 [==============================] - 1s 4ms/step - loss: 0.6762 - accuracy: 0.7467 - val_loss: 0.9253 - val_accuracy: 0.7766\n",
            "Epoch 46/100\n",
            "155/155 [==============================] - 1s 4ms/step - loss: 0.6368 - accuracy: 0.7550 - val_loss: 0.7088 - val_accuracy: 0.7761\n",
            "Epoch 47/100\n",
            "155/155 [==============================] - 1s 4ms/step - loss: 0.7954 - accuracy: 0.7343 - val_loss: 1.6079 - val_accuracy: 0.7719\n",
            "Epoch 48/100\n",
            "155/155 [==============================] - 1s 4ms/step - loss: 0.6890 - accuracy: 0.7469 - val_loss: 0.6630 - val_accuracy: 0.7814\n",
            "Epoch 49/100\n",
            "155/155 [==============================] - 1s 4ms/step - loss: 0.6306 - accuracy: 0.7580 - val_loss: 1.0154 - val_accuracy: 0.7738\n",
            "Epoch 50/100\n",
            "155/155 [==============================] - 1s 4ms/step - loss: 0.8756 - accuracy: 0.7426 - val_loss: 0.8023 - val_accuracy: 0.7776\n",
            "Epoch 51/100\n",
            "155/155 [==============================] - 1s 4ms/step - loss: 0.6445 - accuracy: 0.7535 - val_loss: 1.0839 - val_accuracy: 0.7761\n",
            "Epoch 52/100\n",
            "155/155 [==============================] - 1s 4ms/step - loss: 0.5901 - accuracy: 0.7515 - val_loss: 2.0007 - val_accuracy: 0.4841\n",
            "Epoch 53/100\n",
            "155/155 [==============================] - 1s 4ms/step - loss: 0.7427 - accuracy: 0.7412 - val_loss: 3.0373 - val_accuracy: 0.7572\n",
            "Epoch 54/100\n",
            "155/155 [==============================] - 1s 4ms/step - loss: 0.7491 - accuracy: 0.7523 - val_loss: 0.5277 - val_accuracy: 0.7875\n",
            "Epoch 55/100\n",
            "155/155 [==============================] - 1s 4ms/step - loss: 0.6616 - accuracy: 0.7548 - val_loss: 0.7729 - val_accuracy: 0.7771\n",
            "Epoch 56/100\n",
            "155/155 [==============================] - 1s 4ms/step - loss: 0.6978 - accuracy: 0.7517 - val_loss: 0.7180 - val_accuracy: 0.6100\n",
            "Epoch 57/100\n",
            "155/155 [==============================] - 1s 4ms/step - loss: 0.5814 - accuracy: 0.7558 - val_loss: 0.4602 - val_accuracy: 0.7847\n",
            "Epoch 58/100\n",
            "155/155 [==============================] - 1s 4ms/step - loss: 0.5480 - accuracy: 0.7592 - val_loss: 0.6827 - val_accuracy: 0.7785\n",
            "Epoch 59/100\n",
            "155/155 [==============================] - 1s 4ms/step - loss: 0.6899 - accuracy: 0.7430 - val_loss: 1.1818 - val_accuracy: 0.7719\n",
            "Epoch 60/100\n",
            "155/155 [==============================] - 1s 4ms/step - loss: 0.5922 - accuracy: 0.7550 - val_loss: 0.4923 - val_accuracy: 0.7336\n",
            "Epoch 61/100\n",
            "155/155 [==============================] - 1s 4ms/step - loss: 0.5611 - accuracy: 0.7600 - val_loss: 0.9179 - val_accuracy: 0.7752\n",
            "Epoch 62/100\n",
            "155/155 [==============================] - 1s 4ms/step - loss: 0.6931 - accuracy: 0.7525 - val_loss: 0.5493 - val_accuracy: 0.7804\n",
            "Epoch 63/100\n",
            "155/155 [==============================] - 1s 4ms/step - loss: 0.5665 - accuracy: 0.7570 - val_loss: 0.7107 - val_accuracy: 0.7809\n",
            "Epoch 64/100\n",
            "155/155 [==============================] - 1s 4ms/step - loss: 0.6423 - accuracy: 0.7556 - val_loss: 1.0079 - val_accuracy: 0.7738\n",
            "Epoch 65/100\n",
            "155/155 [==============================] - 1s 4ms/step - loss: 0.7061 - accuracy: 0.7462 - val_loss: 0.7500 - val_accuracy: 0.7818\n",
            "Epoch 66/100\n",
            "155/155 [==============================] - 1s 4ms/step - loss: 0.7765 - accuracy: 0.7493 - val_loss: 0.5799 - val_accuracy: 0.7837\n",
            "Epoch 67/100\n",
            "155/155 [==============================] - 1s 4ms/step - loss: 0.8046 - accuracy: 0.7438 - val_loss: 1.0609 - val_accuracy: 0.7747\n",
            "Epoch 68/100\n",
            "155/155 [==============================] - 1s 4ms/step - loss: 0.7926 - accuracy: 0.7400 - val_loss: 1.0724 - val_accuracy: 0.7780\n",
            "Epoch 69/100\n",
            "155/155 [==============================] - 1s 4ms/step - loss: 0.6861 - accuracy: 0.7499 - val_loss: 0.4445 - val_accuracy: 0.7847\n",
            "Epoch 70/100\n",
            "155/155 [==============================] - 1s 4ms/step - loss: 0.5808 - accuracy: 0.7562 - val_loss: 0.6024 - val_accuracy: 0.6569\n",
            "Epoch 71/100\n",
            "155/155 [==============================] - 1s 4ms/step - loss: 0.5434 - accuracy: 0.7602 - val_loss: 0.5751 - val_accuracy: 0.7856\n",
            "Epoch 72/100\n",
            "155/155 [==============================] - 1s 4ms/step - loss: 0.6206 - accuracy: 0.7546 - val_loss: 0.4434 - val_accuracy: 0.7818\n",
            "Epoch 73/100\n",
            "155/155 [==============================] - 1s 4ms/step - loss: 0.7216 - accuracy: 0.7527 - val_loss: 1.2287 - val_accuracy: 0.7752\n",
            "Epoch 74/100\n",
            "155/155 [==============================] - 1s 4ms/step - loss: 0.5900 - accuracy: 0.7548 - val_loss: 0.5296 - val_accuracy: 0.6914\n",
            "Epoch 75/100\n",
            "155/155 [==============================] - 1s 4ms/step - loss: 0.5960 - accuracy: 0.7558 - val_loss: 0.6632 - val_accuracy: 0.7799\n",
            "Epoch 76/100\n",
            "155/155 [==============================] - 1s 4ms/step - loss: 0.6297 - accuracy: 0.7544 - val_loss: 0.4704 - val_accuracy: 0.7885\n",
            "Epoch 77/100\n",
            "155/155 [==============================] - 1s 4ms/step - loss: 0.5872 - accuracy: 0.7590 - val_loss: 2.2708 - val_accuracy: 0.4780\n",
            "Epoch 78/100\n",
            "155/155 [==============================] - 1s 4ms/step - loss: 0.8505 - accuracy: 0.7361 - val_loss: 0.4855 - val_accuracy: 0.7814\n",
            "Epoch 79/100\n",
            "155/155 [==============================] - 1s 4ms/step - loss: 0.7444 - accuracy: 0.7450 - val_loss: 0.9678 - val_accuracy: 0.5655\n",
            "Epoch 80/100\n",
            "155/155 [==============================] - 1s 4ms/step - loss: 0.6665 - accuracy: 0.7572 - val_loss: 0.8151 - val_accuracy: 0.7771\n",
            "Epoch 81/100\n",
            "155/155 [==============================] - 1s 4ms/step - loss: 0.5679 - accuracy: 0.7592 - val_loss: 0.5228 - val_accuracy: 0.7875\n",
            "Epoch 82/100\n",
            "155/155 [==============================] - 1s 4ms/step - loss: 0.6175 - accuracy: 0.7535 - val_loss: 0.4643 - val_accuracy: 0.7889\n",
            "Epoch 83/100\n",
            "155/155 [==============================] - 1s 4ms/step - loss: 0.6475 - accuracy: 0.7552 - val_loss: 0.6786 - val_accuracy: 0.6257\n",
            "Epoch 84/100\n",
            "155/155 [==============================] - 1s 4ms/step - loss: 0.6360 - accuracy: 0.7511 - val_loss: 0.5112 - val_accuracy: 0.7790\n",
            "Epoch 85/100\n",
            "155/155 [==============================] - 1s 4ms/step - loss: 1.1903 - accuracy: 0.7278 - val_loss: 0.5740 - val_accuracy: 0.7795\n",
            "Epoch 86/100\n",
            "155/155 [==============================] - 1s 4ms/step - loss: 0.6685 - accuracy: 0.7487 - val_loss: 0.7117 - val_accuracy: 0.7799\n",
            "Epoch 87/100\n",
            "155/155 [==============================] - 1s 4ms/step - loss: 0.6312 - accuracy: 0.7491 - val_loss: 0.6082 - val_accuracy: 0.7832\n",
            "Epoch 88/100\n",
            "155/155 [==============================] - 1s 4ms/step - loss: 0.7856 - accuracy: 0.7414 - val_loss: 1.0860 - val_accuracy: 0.7766\n",
            "Epoch 89/100\n",
            "155/155 [==============================] - 1s 4ms/step - loss: 0.6908 - accuracy: 0.7538 - val_loss: 0.8051 - val_accuracy: 0.7823\n",
            "Epoch 90/100\n",
            "155/155 [==============================] - 1s 4ms/step - loss: 0.6065 - accuracy: 0.7497 - val_loss: 0.4509 - val_accuracy: 0.7823\n",
            "Epoch 91/100\n",
            "155/155 [==============================] - 1s 4ms/step - loss: 0.6276 - accuracy: 0.7562 - val_loss: 0.6445 - val_accuracy: 0.6389\n",
            "Epoch 92/100\n",
            "155/155 [==============================] - 1s 4ms/step - loss: 0.6872 - accuracy: 0.7442 - val_loss: 1.1075 - val_accuracy: 0.7719\n",
            "Epoch 93/100\n",
            "155/155 [==============================] - 1s 5ms/step - loss: 0.7289 - accuracy: 0.7402 - val_loss: 0.4501 - val_accuracy: 0.7847\n",
            "Epoch 94/100\n",
            "155/155 [==============================] - 1s 5ms/step - loss: 0.8180 - accuracy: 0.7385 - val_loss: 0.5034 - val_accuracy: 0.7411\n",
            "Epoch 95/100\n",
            "155/155 [==============================] - 1s 5ms/step - loss: 0.5566 - accuracy: 0.7665 - val_loss: 1.2354 - val_accuracy: 0.5154\n",
            "Epoch 96/100\n",
            "155/155 [==============================] - 1s 4ms/step - loss: 0.5543 - accuracy: 0.7602 - val_loss: 0.5384 - val_accuracy: 0.7847\n",
            "Epoch 97/100\n",
            "155/155 [==============================] - 1s 4ms/step - loss: 0.6205 - accuracy: 0.7519 - val_loss: 0.4615 - val_accuracy: 0.7837\n",
            "Epoch 98/100\n",
            "155/155 [==============================] - 1s 4ms/step - loss: 0.6368 - accuracy: 0.7489 - val_loss: 0.4834 - val_accuracy: 0.7496\n",
            "Epoch 99/100\n",
            "155/155 [==============================] - 1s 4ms/step - loss: 0.7433 - accuracy: 0.7487 - val_loss: 0.8394 - val_accuracy: 0.7790\n",
            "Epoch 100/100\n",
            "155/155 [==============================] - 1s 4ms/step - loss: 0.5650 - accuracy: 0.7629 - val_loss: 0.4525 - val_accuracy: 0.7856\n"
          ]
        },
        {
          "output_type": "execute_result",
          "data": {
            "text/plain": [
              "<keras.callbacks.History at 0x7f51f7419bd0>"
            ]
          },
          "metadata": {},
          "execution_count": 98
        }
      ]
    },
    {
      "cell_type": "code",
      "source": [],
      "metadata": {
        "colab": {
          "base_uri": "https://localhost:8080/"
        },
        "id": "4KXYp-k6Vncu",
        "outputId": "f33d855a-cf7e-42da-e302-1a5f35d7f901"
      },
      "execution_count": 50,
      "outputs": [
        {
          "output_type": "stream",
          "name": "stdout",
          "text": [
            "67/67 [==============================] - 0s 2ms/step - loss: 0.5252 - accuracy: 0.7283\n"
          ]
        },
        {
          "output_type": "execute_result",
          "data": {
            "text/plain": [
              "[0.5251818299293518, 0.7283483147621155]"
            ]
          },
          "metadata": {},
          "execution_count": 50
        }
      ]
    },
    {
      "cell_type": "code",
      "source": [
        "print(model.history.history.keys()) "
      ],
      "metadata": {
        "colab": {
          "base_uri": "https://localhost:8080/"
        },
        "id": "c5h3Rd2jYOcr",
        "outputId": "c94d4fe2-1ae0-4c9b-869b-703cd8fee320"
      },
      "execution_count": 52,
      "outputs": [
        {
          "output_type": "stream",
          "name": "stdout",
          "text": [
            "dict_keys([])\n"
          ]
        }
      ]
    },
    {
      "cell_type": "code",
      "source": [
        "from matplotlib import pyplot as plt\n",
        "plt.plot(model.history.history['accuracy'])\n",
        "plt.plot(model.history.history['val_accuracy'])\n",
        "plt.show()"
      ],
      "metadata": {
        "colab": {
          "base_uri": "https://localhost:8080/",
          "height": 265
        },
        "id": "rIhM4QOsYHcg",
        "outputId": "21a6f941-6d46-4ed1-a112-823c9d887f99"
      },
      "execution_count": 99,
      "outputs": [
        {
          "output_type": "display_data",
          "data": {
            "text/plain": [
              "<Figure size 432x288 with 1 Axes>"
            ],
            "image/png": "[encoded data removed]"
          },
          "metadata": {
            "needs_background": "light"
          }
        }
      ]
    },
    {
      "cell_type": "code",
      "source": [
        "model.evaluate(x_test,y_test)"
      ],
      "metadata": {
        "id": "cbjE5YCBYXTU"
      },
      "execution_count": null,
      "outputs": []
    },
    {
      "cell_type": "code",
      "source": [
        "customer.Churn.replace({'Yes': 1,'No': 0},inplace=True)"
      ],
      "metadata": {
        "id": "nRVR0xCnZNbX"
      },
      "execution_count": 57,
      "outputs": []
    },
    {
      "cell_type": "code",
      "source": [
        "print_unique_col_values(customer)"
      ],
      "metadata": {
        "colab": {
          "base_uri": "https://localhost:8080/"
        },
        "id": "B5xCSexSYtKE",
        "outputId": "4a606b13-9aec-4151-e3ab-e1deaa8a58c6"
      },
      "execution_count": 56,
      "outputs": [
        {
          "output_type": "stream",
          "name": "stdout",
          "text": [
            "customerID: ['7590-VHVEG' '5575-GNVDE' '3668-QPYBK' ... '4801-JZAZL' '8361-LTMKD'\n",
            " '3186-AJIEK']\n",
            "gender: ['Female' 'Male']\n",
            "MultipleLines: ['No phone service' 0 1]\n",
            "InternetService: ['DSL' 'Fiber optic' 'No']\n",
            "OnlineSecurity: [0 1 'No internet service']\n",
            "OnlineBackup: [1 0 'No internet service']\n",
            "DeviceProtection: [0 1 'No internet service']\n",
            "TechSupport: [0 1 'No internet service']\n",
            "StreamingTV: [0 1 'No internet service']\n",
            "StreamingMovies: [0 1 'No internet service']\n",
            "Contract: ['Month-to-month' 'One year' 'Two year']\n",
            "PaymentMethod: ['Electronic check' 'Mailed check' 'Bank transfer (automatic)'\n",
            " 'Credit card (automatic)']\n",
            "TotalCharges: ['29.85' '1889.5' '108.15' ... '346.45' '306.6' '6844.5']\n"
          ]
        }
      ]
    },
    {
      "cell_type": "code",
      "source": [
        "x=customer[['MonthlyCharges','tenure','TotalCharges']]#Features\n",
        "y=customer[['Churn']]#Target"
      ],
      "metadata": {
        "id": "yqoaTbmpYYq4"
      },
      "execution_count": 84,
      "outputs": []
    },
    {
      "cell_type": "code",
      "source": [
        "x.shape"
      ],
      "metadata": {
        "colab": {
          "base_uri": "https://localhost:8080/"
        },
        "id": "KLBl_bqvecHp",
        "outputId": "4a4663d2-ce06-4829-8379-dd3188574617"
      },
      "execution_count": 65,
      "outputs": [
        {
          "output_type": "execute_result",
          "data": {
            "text/plain": [
              "(7043, 3)"
            ]
          },
          "metadata": {},
          "execution_count": 65
        }
      ]
    },
    {
      "cell_type": "code",
      "source": [
        "y.shape"
      ],
      "metadata": {
        "colab": {
          "base_uri": "https://localhost:8080/"
        },
        "id": "b67AUkJiegTU",
        "outputId": "b372cb69-9fa6-4f8d-e5a3-3a56811ee03a"
      },
      "execution_count": 66,
      "outputs": [
        {
          "output_type": "execute_result",
          "data": {
            "text/plain": [
              "(7043, 1)"
            ]
          },
          "metadata": {},
          "execution_count": 66
        }
      ]
    },
    {
      "cell_type": "code",
      "source": [
        "customer = customer.dropna()"
      ],
      "metadata": {
        "id": "dBi2MM4lg4zq"
      },
      "execution_count": 73,
      "outputs": []
    },
    {
      "cell_type": "code",
      "source": [
        "customer.TotalCharges = customer.TotalCharges.astype(float) "
      ],
      "metadata": {
        "id": "vRcQPgAHhhGw"
      },
      "execution_count": 79,
      "outputs": []
    },
    {
      "cell_type": "code",
      "source": [
        "customer['TotalCharges'] = customer['TotalCharges'].astype(float)"
      ],
      "metadata": {
        "id": "NVl3wOVGh3AW"
      },
      "execution_count": 82,
      "outputs": []
    },
    {
      "cell_type": "code",
      "source": [
        "customer.TotalCharges.replace([\" \"], [\"0\"], inplace= True) \n",
        "customer.TotalCharges = customer.TotalCharges.astype(float) "
      ],
      "metadata": {
        "id": "-EP8iFMpfHBZ"
      },
      "execution_count": 85,
      "outputs": []
    },
    {
      "cell_type": "code",
      "source": [
        "x.info()"
      ],
      "metadata": {
        "colab": {
          "base_uri": "https://localhost:8080/"
        },
        "id": "k02tvju2Z6jx",
        "outputId": "10c163f7-14ea-4dfd-c68d-65de54a32ac6"
      },
      "execution_count": 86,
      "outputs": [
        {
          "output_type": "stream",
          "name": "stdout",
          "text": [
            "<class 'pandas.core.frame.DataFrame'>\n",
            "Int64Index: 7043 entries, 0 to 7042\n",
            "Data columns (total 3 columns):\n",
            " #   Column          Non-Null Count  Dtype  \n",
            "---  ------          --------------  -----  \n",
            " 0   MonthlyCharges  7043 non-null   float64\n",
            " 1   tenure          7043 non-null   int64  \n",
            " 2   TotalCharges    7043 non-null   float64\n",
            "dtypes: float64(2), int64(1)\n",
            "memory usage: 220.1 KB\n"
          ]
        }
      ]
    },
    {
      "cell_type": "code",
      "source": [
        "x_train,x_test,y_train,y_test = train_test_split(x,y,test_size=0.30,random_state=42)\n",
        "model = Sequential()\n",
        "model.add(Dense(12, input_dim=3, activation='relu'))\n",
        "model.add(Dense(8, activation='relu'))\n",
        "model.add(Dense(1, activation='sigmoid'))\n",
        "model.compile(loss='binary_crossentropy', optimizer='adam', metrics=['accuracy'])\n",
        "model.fit(x_train, y_train, epochs=50,validation_data=(x_test,y_test))\n"
      ],
      "metadata": {
        "colab": {
          "base_uri": "https://localhost:8080/"
        },
        "id": "JkpYHGswYff6",
        "outputId": "cc942d1c-23fb-4ad7-998e-ebf7412e7ed6"
      },
      "execution_count": 95,
      "outputs": [
        {
          "output_type": "stream",
          "name": "stdout",
          "text": [
            "Epoch 1/50\n",
            "155/155 [==============================] - 1s 5ms/step - loss: 4.3742 - accuracy: 0.6797 - val_loss: 4.7186 - val_accuracy: 0.4184\n",
            "Epoch 2/50\n",
            "155/155 [==============================] - 1s 4ms/step - loss: 1.2717 - accuracy: 0.7235 - val_loss: 0.4927 - val_accuracy: 0.7719\n",
            "Epoch 3/50\n",
            "155/155 [==============================] - 1s 4ms/step - loss: 0.9689 - accuracy: 0.7331 - val_loss: 3.3461 - val_accuracy: 0.4434\n",
            "Epoch 4/50\n",
            "155/155 [==============================] - 1s 4ms/step - loss: 0.9371 - accuracy: 0.7325 - val_loss: 1.5530 - val_accuracy: 0.7662\n",
            "Epoch 5/50\n",
            "155/155 [==============================] - 1s 4ms/step - loss: 1.0026 - accuracy: 0.7302 - val_loss: 0.6749 - val_accuracy: 0.7747\n",
            "Epoch 6/50\n",
            "155/155 [==============================] - 1s 4ms/step - loss: 0.8647 - accuracy: 0.7355 - val_loss: 0.6675 - val_accuracy: 0.7743\n",
            "Epoch 7/50\n",
            "155/155 [==============================] - 1s 4ms/step - loss: 0.6877 - accuracy: 0.7576 - val_loss: 0.5599 - val_accuracy: 0.7832\n",
            "Epoch 8/50\n",
            "155/155 [==============================] - 1s 4ms/step - loss: 0.7155 - accuracy: 0.7475 - val_loss: 1.8349 - val_accuracy: 0.7643\n",
            "Epoch 9/50\n",
            "155/155 [==============================] - 1s 4ms/step - loss: 0.9348 - accuracy: 0.7335 - val_loss: 0.5364 - val_accuracy: 0.6962\n",
            "Epoch 10/50\n",
            "155/155 [==============================] - 1s 4ms/step - loss: 0.7139 - accuracy: 0.7462 - val_loss: 0.6675 - val_accuracy: 0.7828\n",
            "Epoch 11/50\n",
            "155/155 [==============================] - 1s 4ms/step - loss: 0.6931 - accuracy: 0.7519 - val_loss: 1.6550 - val_accuracy: 0.7700\n",
            "Epoch 12/50\n",
            "155/155 [==============================] - 1s 4ms/step - loss: 1.1494 - accuracy: 0.7308 - val_loss: 1.9874 - val_accuracy: 0.7719\n",
            "Epoch 13/50\n",
            "155/155 [==============================] - 1s 4ms/step - loss: 0.7392 - accuracy: 0.7432 - val_loss: 1.0206 - val_accuracy: 0.7743\n",
            "Epoch 14/50\n",
            "155/155 [==============================] - 1s 4ms/step - loss: 1.2519 - accuracy: 0.7300 - val_loss: 2.6917 - val_accuracy: 0.4610\n",
            "Epoch 15/50\n",
            "155/155 [==============================] - 1s 4ms/step - loss: 0.8157 - accuracy: 0.7400 - val_loss: 1.1118 - val_accuracy: 0.7766\n",
            "Epoch 16/50\n",
            "155/155 [==============================] - 1s 4ms/step - loss: 0.6019 - accuracy: 0.7629 - val_loss: 1.7242 - val_accuracy: 0.4960\n",
            "Epoch 17/50\n",
            "155/155 [==============================] - 1s 4ms/step - loss: 0.9339 - accuracy: 0.7440 - val_loss: 0.6538 - val_accuracy: 0.6408\n",
            "Epoch 18/50\n",
            "155/155 [==============================] - 1s 4ms/step - loss: 1.3311 - accuracy: 0.7241 - val_loss: 0.5472 - val_accuracy: 0.7354\n",
            "Epoch 19/50\n",
            "155/155 [==============================] - 1s 4ms/step - loss: 0.5732 - accuracy: 0.7576 - val_loss: 1.4875 - val_accuracy: 0.5097\n",
            "Epoch 20/50\n",
            "155/155 [==============================] - 1s 4ms/step - loss: 0.9632 - accuracy: 0.7327 - val_loss: 0.6926 - val_accuracy: 0.6304\n",
            "Epoch 21/50\n",
            "155/155 [==============================] - 1s 4ms/step - loss: 0.7313 - accuracy: 0.7489 - val_loss: 0.4711 - val_accuracy: 0.7861\n",
            "Epoch 22/50\n",
            "155/155 [==============================] - 1s 4ms/step - loss: 0.9294 - accuracy: 0.7339 - val_loss: 0.4634 - val_accuracy: 0.7690\n",
            "Epoch 23/50\n",
            "155/155 [==============================] - 1s 4ms/step - loss: 0.6784 - accuracy: 0.7527 - val_loss: 0.4909 - val_accuracy: 0.7847\n",
            "Epoch 24/50\n",
            "155/155 [==============================] - 1s 4ms/step - loss: 0.7289 - accuracy: 0.7540 - val_loss: 0.8119 - val_accuracy: 0.5982\n",
            "Epoch 25/50\n",
            "155/155 [==============================] - 1s 4ms/step - loss: 0.7069 - accuracy: 0.7550 - val_loss: 0.4520 - val_accuracy: 0.7828\n",
            "Epoch 26/50\n",
            "155/155 [==============================] - 1s 4ms/step - loss: 0.9365 - accuracy: 0.7398 - val_loss: 0.6525 - val_accuracy: 0.7856\n",
            "Epoch 27/50\n",
            "155/155 [==============================] - 1s 4ms/step - loss: 0.8860 - accuracy: 0.7377 - val_loss: 0.6326 - val_accuracy: 0.7795\n",
            "Epoch 28/50\n",
            "155/155 [==============================] - 1s 4ms/step - loss: 0.7700 - accuracy: 0.7377 - val_loss: 0.4572 - val_accuracy: 0.7714\n",
            "Epoch 29/50\n",
            "155/155 [==============================] - 1s 4ms/step - loss: 0.7730 - accuracy: 0.7477 - val_loss: 1.5698 - val_accuracy: 0.7681\n",
            "Epoch 30/50\n",
            "155/155 [==============================] - 1s 4ms/step - loss: 1.6075 - accuracy: 0.7266 - val_loss: 0.9418 - val_accuracy: 0.7823\n",
            "Epoch 31/50\n",
            "155/155 [==============================] - 1s 4ms/step - loss: 0.6990 - accuracy: 0.7517 - val_loss: 0.7933 - val_accuracy: 0.7804\n",
            "Epoch 32/50\n",
            "155/155 [==============================] - 1s 4ms/step - loss: 0.6707 - accuracy: 0.7444 - val_loss: 1.3269 - val_accuracy: 0.7709\n",
            "Epoch 33/50\n",
            "155/155 [==============================] - 1s 4ms/step - loss: 0.9326 - accuracy: 0.7400 - val_loss: 0.5233 - val_accuracy: 0.7851\n",
            "Epoch 34/50\n",
            "155/155 [==============================] - 1s 4ms/step - loss: 0.6721 - accuracy: 0.7509 - val_loss: 0.4510 - val_accuracy: 0.7823\n",
            "Epoch 35/50\n",
            "155/155 [==============================] - 1s 4ms/step - loss: 0.7264 - accuracy: 0.7422 - val_loss: 0.6185 - val_accuracy: 0.7861\n",
            "Epoch 36/50\n",
            "155/155 [==============================] - 1s 4ms/step - loss: 0.7210 - accuracy: 0.7521 - val_loss: 2.6002 - val_accuracy: 0.4695\n",
            "Epoch 37/50\n",
            "155/155 [==============================] - 1s 4ms/step - loss: 0.9413 - accuracy: 0.7381 - val_loss: 1.9694 - val_accuracy: 0.4841\n",
            "Epoch 38/50\n",
            "155/155 [==============================] - 1s 4ms/step - loss: 1.0332 - accuracy: 0.7365 - val_loss: 1.6803 - val_accuracy: 0.4903\n",
            "Epoch 39/50\n",
            "155/155 [==============================] - 1s 4ms/step - loss: 0.7573 - accuracy: 0.7400 - val_loss: 1.1789 - val_accuracy: 0.7747\n",
            "Epoch 40/50\n",
            "155/155 [==============================] - 1s 4ms/step - loss: 0.7747 - accuracy: 0.7471 - val_loss: 1.1613 - val_accuracy: 0.5291\n",
            "Epoch 41/50\n",
            "155/155 [==============================] - 1s 4ms/step - loss: 0.6585 - accuracy: 0.7544 - val_loss: 1.9908 - val_accuracy: 0.7662\n",
            "Epoch 42/50\n",
            "155/155 [==============================] - 1s 4ms/step - loss: 0.9209 - accuracy: 0.7371 - val_loss: 0.5255 - val_accuracy: 0.7847\n",
            "Epoch 43/50\n",
            "155/155 [==============================] - 1s 4ms/step - loss: 0.6985 - accuracy: 0.7493 - val_loss: 0.9422 - val_accuracy: 0.7761\n",
            "Epoch 44/50\n",
            "155/155 [==============================] - 1s 4ms/step - loss: 0.6902 - accuracy: 0.7503 - val_loss: 0.6100 - val_accuracy: 0.7814\n",
            "Epoch 45/50\n",
            "155/155 [==============================] - 1s 4ms/step - loss: 0.6211 - accuracy: 0.7540 - val_loss: 0.5041 - val_accuracy: 0.7075\n",
            "Epoch 46/50\n",
            "155/155 [==============================] - 1s 4ms/step - loss: 0.7789 - accuracy: 0.7428 - val_loss: 0.5343 - val_accuracy: 0.7814\n",
            "Epoch 47/50\n",
            "155/155 [==============================] - 1s 4ms/step - loss: 0.7966 - accuracy: 0.7460 - val_loss: 0.9710 - val_accuracy: 0.7804\n",
            "Epoch 48/50\n",
            "155/155 [==============================] - 1s 4ms/step - loss: 0.8970 - accuracy: 0.7442 - val_loss: 0.6185 - val_accuracy: 0.7861\n",
            "Epoch 49/50\n",
            "155/155 [==============================] - 1s 4ms/step - loss: 0.6163 - accuracy: 0.7481 - val_loss: 0.5246 - val_accuracy: 0.7889\n",
            "Epoch 50/50\n",
            "155/155 [==============================] - 1s 4ms/step - loss: 0.5903 - accuracy: 0.7590 - val_loss: 0.4710 - val_accuracy: 0.7889\n"
          ]
        },
        {
          "output_type": "execute_result",
          "data": {
            "text/plain": [
              "<keras.callbacks.History at 0x7f51f7788d10>"
            ]
          },
          "metadata": {},
          "execution_count": 95
        }
      ]
    },
    {
      "cell_type": "markdown",
      "source": [],
      "metadata": {
        "id": "YiJz-B1jjgvI"
      }
    },
    {
      "cell_type": "code",
      "source": [
        "model.evaluate(x_test,y_test)\n",
        "yp = model.predict(x_test)\n",
        "y_pred = []\n",
        "for element in yp:\n",
        "    if element > 0.5:\n",
        "        y_pred.append(1)\n",
        "    else:\n",
        "        y_pred.append(0)"
      ],
      "metadata": {
        "colab": {
          "base_uri": "https://localhost:8080/"
        },
        "id": "KuhjyJLMjhHZ",
        "outputId": "75be02df-f4de-4d23-f23f-a525136ae0b4"
      },
      "execution_count": 93,
      "outputs": [
        {
          "output_type": "stream",
          "name": "stdout",
          "text": [
            "67/67 [==============================] - 0s 2ms/step - loss: 0.5366 - accuracy: 0.7870\n",
            "67/67 [==============================] - 0s 1ms/step\n"
          ]
        }
      ]
    },
    {
      "cell_type": "code",
      "source": [
        "plt.plot(model.history.history['accuracy'])\n",
        "plt.plot(model.history.history['val_accuracy'])\n",
        "plt.show()"
      ],
      "metadata": {
        "colab": {
          "base_uri": "https://localhost:8080/",
          "height": 265
        },
        "id": "A-1Q2Oqwp99h",
        "outputId": "0570c11d-3927-4441-f6e1-63a636cfb6d3"
      },
      "execution_count": 96,
      "outputs": [
        {
          "output_type": "display_data",
          "data": {
            "text/plain": [
              "<Figure size 432x288 with 1 Axes>"
            ],
            "image/png": "[encoded data removed]"
          },
          "metadata": {
            "needs_background": "light"
          }
        }
      ]
    }
  ]
}